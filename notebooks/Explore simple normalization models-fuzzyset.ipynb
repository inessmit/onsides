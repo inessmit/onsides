{
 "cells": [
  {
   "cell_type": "code",
   "execution_count": 11,
   "metadata": {},
   "outputs": [],
   "source": [
    "import os\n",
    "import sys\n",
    "import csv\n",
    "import tqdm\n",
    "import pandas\n",
    "from itertools import permutations\n",
    "\n",
    "# from fuzzyset import FuzzySet\n",
    "from cfuzzyset import cFuzzySet as FuzzySet\n",
    "\n",
    "from sklearn.metrics import roc_auc_score, average_precision_score, precision_recall_curve\n",
    "\n",
    "import seaborn as sns\n",
    "import matplotlib.pyplot as plt\n",
    "\n",
    "%matplotlib inline"
   ]
  },
  {
   "cell_type": "code",
   "execution_count": 3,
   "metadata": {},
   "outputs": [
    {
     "name": "stdout",
     "output_type": "stream",
     "text": [
      "source_xml,string_found,meddra_pt_id,is_abbreviation,expanded_term\r",
      "\r\n",
      "KYPROLIS.xml,infection adverse events,10021789,False,\r",
      "\r\n",
      "COARTEM.xml,lower respiratory tract infection,10024968,False,\r",
      "\r\n",
      "VORAXAZE.xml,anaphylactic reactions,10002198,False,\r",
      "\r\n",
      "ILARIS.xml,elevations of transaminases,10054889,False,\r",
      "\r\n",
      "INTELENCE.xml,haemorrhagic stroke,10019016,False,\r",
      "\r\n",
      "PICATO.xml,skin reactions in the treated area erosion,10065577,False,\r",
      "\r\n",
      "AFINITOR.xml,xeroderma,10048218,False,\r",
      "\r\n",
      "LUMIZYME.xml,rash macular,10037867,False,\r",
      "\r\n",
      "TREANDA.xml,extravasation injury,10015866,False,\r",
      "\r\n"
     ]
    }
   ],
   "source": [
    "!head ../data/normalization/train_xml_normalization_map_step2.txt"
   ]
  },
  {
   "cell_type": "code",
   "execution_count": 45,
   "metadata": {},
   "outputs": [],
   "source": [
    "# Load the training data from the provided XML documents and parsed\n",
    "# by the ../src/normalization_construct_trainingdata_step2_buildmap.py script.\n",
    "\n",
    "fh = open('../data/normalization/train_xml_normalization_map_step2.txt')\n",
    "# fh = open('../data/normalization/gold_xml_normalization_map_step2.txt')\n",
    "reader = csv.reader(fh)\n",
    "header = next(reader)\n",
    "\n",
    "training_map = dict()\n",
    "\n",
    "for source_xml, raw_string, meddra_pt_id, is_abbreviation, expanded_term in reader:\n",
    "    \n",
    "    query_string = raw_string.lower()\n",
    "    \n",
    "    if is_abbreviation == 'True':\n",
    "        query_string = expanded_term.lower()\n",
    "    \n",
    "    training_map[query_string] = meddra_pt_id\n",
    "    \n",
    "fh.close()"
   ]
  },
  {
   "cell_type": "code",
   "execution_count": 6,
   "metadata": {},
   "outputs": [
    {
     "data": {
      "text/plain": [
       "59760"
      ]
     },
     "execution_count": 6,
     "metadata": {},
     "output_type": "execute_result"
    }
   ],
   "source": [
    "# Load all the strings from meddra 23.1 and map them to the preferred term id\n",
    "fh = open('../data/meddra_pt_llt_map_omop_v23.1.csv')\n",
    "reader = csv.reader(fh)\n",
    "header = next(reader)\n",
    "\n",
    "meddra_strings = dict()\n",
    "meddra_sorted_fuzzyset = FuzzySet()\n",
    "\n",
    "for pt_concept_id, pt_concept_name, pt_meddra_id, llt_concept_id, llt_concept_name, llt_meddra_id in reader:\n",
    "        \n",
    "    # PT\n",
    "    sorted_pt_concept_name = ' '.join(sorted(pt_concept_name.lower().split()))\n",
    "    meddra_sorted_fuzzyset.add(sorted_pt_concept_name)\n",
    "    meddra_strings[sorted_pt_concept_name] = pt_meddra_id\n",
    "    \n",
    "    # LLT\n",
    "    sorted_llt_concept_name = ' '.join(sorted(llt_concept_name.lower().split()))\n",
    "    meddra_sorted_fuzzyset.add(sorted_llt_concept_name)\n",
    "    meddra_strings[sorted_llt_concept_name] = pt_meddra_id\n",
    "\n",
    "fh.close()\n",
    "\n",
    "len(meddra_strings)    "
   ]
  },
  {
   "cell_type": "code",
   "execution_count": 46,
   "metadata": {},
   "outputs": [
    {
     "data": {
      "text/plain": [
       "(2077, 2848)"
      ]
     },
     "execution_count": 46,
     "metadata": {},
     "output_type": "execute_result"
    }
   ],
   "source": [
    "# Idenify exact matches and skip them (we'll just match them using string matching)\n",
    "terms_to_match = set()\n",
    "for term in training_map.keys():\n",
    "    if term in meddra_strings:\n",
    "        # exact match, skip\n",
    "        continue\n",
    "    terms_to_match.add(term)\n",
    "\n",
    "len(terms_to_match), len(training_map)"
   ]
  },
  {
   "cell_type": "code",
   "execution_count": 47,
   "metadata": {},
   "outputs": [
    {
     "data": {
      "text/plain": [
       "771"
      ]
     },
     "execution_count": 47,
     "metadata": {},
     "output_type": "execute_result"
    }
   ],
   "source": [
    "exact_matches = len(training_map)-len(terms_to_match)\n",
    "exact_matches"
   ]
  },
  {
   "cell_type": "code",
   "execution_count": null,
   "metadata": {},
   "outputs": [],
   "source": [
    "# correct = 0\n",
    "# incorrect = 0\n",
    "\n",
    "# for a in tqdm.tqdm(training_map.keys()):\n",
    "    \n",
    "#     fuzzyset_match = meddra_fuzzyset.get(a)\n",
    "#     pred_meddra_pt_id = meddra_strings[fuzzyset_match[0][1]]\n",
    "    \n",
    "#     if pred_meddra_pt_id == training_map[a]:\n",
    "#         correct += 1\n",
    "#     else:\n",
    "#         incorrect += 1\n",
    "\n",
    "# correct/(incorrect+correct)"
   ]
  },
  {
   "cell_type": "code",
   "execution_count": null,
   "metadata": {},
   "outputs": [],
   "source": [
    "# correct = 0\n",
    "# incorrect = 0\n",
    "\n",
    "# for a in tqdm.tqdm(terms_to_match):\n",
    "    \n",
    "#     fuzzyset_match = meddra_fuzzyset.get(a)\n",
    "#     pred_meddra_pt_id = meddra_strings[fuzzyset_match[0][1]]\n",
    "    \n",
    "#     if pred_meddra_pt_id == training_map[a]:\n",
    "#         correct += 1\n",
    "#     else:\n",
    "#         incorrect += 1\n",
    "\n",
    "# correct/(incorrect+correct), (correct+exact_matches)/(incorrect+correct+exact_matches)"
   ]
  },
  {
   "cell_type": "code",
   "execution_count": null,
   "metadata": {},
   "outputs": [],
   "source": [
    "# correct = 0\n",
    "# incorrect = 0\n",
    "\n",
    "# for a in tqdm.tqdm(terms_to_match):\n",
    "#     fuzzyset_match = list()\n",
    "#     fuzzyset_match.extend(meddra_fuzzyset.get(a))\n",
    "    \n",
    "#     for p in permutations(a.split()[:4]):\n",
    "#         fuzzyset_match.extend(meddra_fuzzyset.get(' '.join(p)))\n",
    "    \n",
    "#     pred_meddra_pt_id = meddra_strings[sorted(fuzzyset_match)[-1][1]]\n",
    "    \n",
    "#     if fuzzyset_match[0][0] == 1:\n",
    "#         exact_matches += 1\n",
    "    \n",
    "#     if pred_meddra_pt_id == training_map[a]:\n",
    "#         correct += 1\n",
    "#     else:\n",
    "#         incorrect += 1\n",
    "\n",
    "# correct/(incorrect+correct), (correct+exact_matches)/(incorrect+correct+exact_matches)"
   ]
  },
  {
   "cell_type": "code",
   "execution_count": null,
   "metadata": {},
   "outputs": [],
   "source": [
    "# correct = 0\n",
    "# incorrect = 0\n",
    "\n",
    "# for a in tqdm.tqdm(terms_to_match):\n",
    "#     fuzzyset_match = list()\n",
    "#     fuzzyset_match.extend(meddra_fuzzyset.get(a))\n",
    "    \n",
    "#     for p in permutations(a.split()[:5]):\n",
    "#         fuzzyset_match.extend(meddra_fuzzyset.get(' '.join(p)))\n",
    "    \n",
    "#     pred_meddra_pt_id = meddra_strings[sorted(fuzzyset_match)[-1][1]]\n",
    "    \n",
    "#     if fuzzyset_match[0][0] == 1:\n",
    "#         exact_matches += 1\n",
    "    \n",
    "#     if pred_meddra_pt_id == training_map[a]:\n",
    "#         correct += 1\n",
    "#     else:\n",
    "#         incorrect += 1\n",
    "\n",
    "# correct/(incorrect+correct), (correct+exact_matches)/(incorrect+correct+exact_matches)"
   ]
  },
  {
   "cell_type": "code",
   "execution_count": null,
   "metadata": {},
   "outputs": [],
   "source": [
    "# correct = 0\n",
    "# incorrect = 0\n",
    "\n",
    "# for a in tqdm.tqdm(terms_to_match):\n",
    "#     fuzzyset_match = list()\n",
    "#     fuzzyset_match.extend(meddra_fuzzyset.get(a))\n",
    "    \n",
    "#     for p in permutations(a.split()[:6]):\n",
    "#         fuzzyset_match.extend(meddra_fuzzyset.get(' '.join(p)))\n",
    "    \n",
    "#     pred_meddra_pt_id = meddra_strings[sorted(fuzzyset_match)[-1][1]]\n",
    "    \n",
    "#     if fuzzyset_match[0][0] == 1:\n",
    "#         exact_matches += 1\n",
    "    \n",
    "#     if pred_meddra_pt_id == training_map[a]:\n",
    "#         correct += 1\n",
    "#     else:\n",
    "#         incorrect += 1\n",
    "\n",
    "# correct/(incorrect+correct), (correct+exact_matches)/(incorrect+correct+exact_matches)"
   ]
  },
  {
   "cell_type": "code",
   "execution_count": null,
   "metadata": {},
   "outputs": [],
   "source": [
    "# correct = 0\n",
    "# incorrect = 0\n",
    "\n",
    "# for a in tqdm.tqdm(terms_to_match):\n",
    "#     fuzzyset_match = list()\n",
    "#     fuzzyset_match.extend(meddra_fuzzyset.get(a))\n",
    "    \n",
    "#     for p in permutations(a.split()[-4:]):\n",
    "#         fuzzyset_match.extend(meddra_fuzzyset.get(' '.join(p)))\n",
    "    \n",
    "#     pred_meddra_pt_id = meddra_strings[sorted(fuzzyset_match)[-1][1]]\n",
    "    \n",
    "#     if fuzzyset_match[0][0] == 1:\n",
    "#         exact_matches += 1\n",
    "    \n",
    "#     if pred_meddra_pt_id == training_map[a]:\n",
    "#         correct += 1\n",
    "#     else:\n",
    "#         incorrect += 1\n",
    "\n",
    "# correct/(incorrect+correct), (correct+exact_matches)/(incorrect+correct+exact_matches)"
   ]
  },
  {
   "cell_type": "markdown",
   "metadata": {},
   "source": [
    "## Sorted"
   ]
  },
  {
   "cell_type": "code",
   "execution_count": 50,
   "metadata": {},
   "outputs": [
    {
     "name": "stderr",
     "output_type": "stream",
     "text": [
      "100%|███████████████████████████████████████████████████████████████████████████████████████████████████████████████████████████████████████████████████████████████████████████████████████████████████████████████| 2077/2077 [00:43<00:00, 48.20it/s]\n"
     ]
    },
    {
     "data": {
      "text/plain": [
       "(0.5565719788155994, 0.6766151685393258)"
      ]
     },
     "execution_count": 50,
     "metadata": {},
     "output_type": "execute_result"
    }
   ],
   "source": [
    "correct = 0\n",
    "incorrect = 0\n",
    "\n",
    "match_scores = list()\n",
    "match_labels = list()\n",
    "\n",
    "for a in tqdm.tqdm(terms_to_match):\n",
    "    \n",
    "    sorted_a = ' '.join(sorted(a.split()))\n",
    "    \n",
    "    fuzzyset_match = meddra_sorted_fuzzyset.get(sorted_a)\n",
    "    \n",
    "    match_scores.append(fuzzyset_match[0][0])\n",
    "    \n",
    "    \n",
    "    pred_meddra_pt_id = meddra_strings[sorted(fuzzyset_match)[0][1]]\n",
    "    \n",
    "    if pred_meddra_pt_id == training_map[a]:\n",
    "        correct += 1\n",
    "        match_labels.append(1)\n",
    "    else:\n",
    "        incorrect += 1\n",
    "        match_labels.append(0)\n",
    "\n",
    "correct/(incorrect+correct), (correct+exact_matches)/(incorrect+correct+exact_matches)"
   ]
  },
  {
   "cell_type": "code",
   "execution_count": 51,
   "metadata": {},
   "outputs": [
    {
     "data": {
      "text/plain": [
       "0.8901421653160211"
      ]
     },
     "execution_count": 51,
     "metadata": {},
     "output_type": "execute_result"
    }
   ],
   "source": [
    "roc_auc_score(match_labels, match_scores)"
   ]
  },
  {
   "cell_type": "code",
   "execution_count": 52,
   "metadata": {},
   "outputs": [
    {
     "data": {
      "image/png": "[encoded data removed]",
      "text/plain": [
       "<Figure size 640x480 with 1 Axes>"
      ]
     },
     "metadata": {},
     "output_type": "display_data"
    }
   ],
   "source": [
    "prec, rec, thres = precision_recall_curve(match_labels, match_scores)\n",
    "f1_scores = 2*rec*prec/(rec+prec)\n",
    "prec_maxf1 = prec[f1_scores.argmax()]\n",
    "rec_maxf1 = rec[f1_scores.argmax()]\n",
    "\n",
    "plt.plot(rec, prec, 'k-', label='AUPR = %.2f' % average_precision_score(match_labels, match_scores))\n",
    "plt.plot([rec_maxf1], [prec_maxf1], 'ko')\n",
    "plt.plot([0,1], [0.96, 0.96], 'r--')\n",
    "plt.xlabel('Recall')\n",
    "plt.ylabel('Precision')\n",
    "plt.legend()\n",
    "sns.despine()\n",
    "plt.savefig('../figures/Normalization-FuzzySet-Matching-PRCurve-Training.pdf')"
   ]
  },
  {
   "cell_type": "code",
   "execution_count": 53,
   "metadata": {},
   "outputs": [
    {
     "data": {
      "text/html": [
       "<div>\n",
       "<style scoped>\n",
       "    .dataframe tbody tr th:only-of-type {\n",
       "        vertical-align: middle;\n",
       "    }\n",
       "\n",
       "    .dataframe tbody tr th {\n",
       "        vertical-align: top;\n",
       "    }\n",
       "\n",
       "    .dataframe thead th {\n",
       "        text-align: right;\n",
       "    }\n",
       "</style>\n",
       "<table border=\"1\" class=\"dataframe\">\n",
       "  <thead>\n",
       "    <tr style=\"text-align: right;\">\n",
       "      <th></th>\n",
       "      <th>Precision</th>\n",
       "      <th>Recall</th>\n",
       "      <th>Thresholds</th>\n",
       "    </tr>\n",
       "  </thead>\n",
       "  <tbody>\n",
       "    <tr>\n",
       "      <th>236</th>\n",
       "      <td>0.942953</td>\n",
       "      <td>0.729239</td>\n",
       "      <td>0.860000</td>\n",
       "    </tr>\n",
       "    <tr>\n",
       "      <th>237</th>\n",
       "      <td>0.944009</td>\n",
       "      <td>0.729239</td>\n",
       "      <td>0.862069</td>\n",
       "    </tr>\n",
       "    <tr>\n",
       "      <th>238</th>\n",
       "      <td>0.943820</td>\n",
       "      <td>0.726644</td>\n",
       "      <td>0.862745</td>\n",
       "    </tr>\n",
       "    <tr>\n",
       "      <th>239</th>\n",
       "      <td>0.943757</td>\n",
       "      <td>0.725779</td>\n",
       "      <td>0.863636</td>\n",
       "    </tr>\n",
       "    <tr>\n",
       "      <th>240</th>\n",
       "      <td>0.947727</td>\n",
       "      <td>0.721453</td>\n",
       "      <td>0.864865</td>\n",
       "    </tr>\n",
       "    <tr>\n",
       "      <th>241</th>\n",
       "      <td>0.947668</td>\n",
       "      <td>0.720588</td>\n",
       "      <td>0.866667</td>\n",
       "    </tr>\n",
       "    <tr>\n",
       "      <th>242</th>\n",
       "      <td>0.949714</td>\n",
       "      <td>0.718858</td>\n",
       "      <td>0.869565</td>\n",
       "    </tr>\n",
       "    <tr>\n",
       "      <th>243</th>\n",
       "      <td>0.952874</td>\n",
       "      <td>0.717128</td>\n",
       "      <td>0.870968</td>\n",
       "    </tr>\n",
       "    <tr>\n",
       "      <th>244</th>\n",
       "      <td>0.953970</td>\n",
       "      <td>0.717128</td>\n",
       "      <td>0.871795</td>\n",
       "    </tr>\n",
       "    <tr>\n",
       "      <th>245</th>\n",
       "      <td>0.955069</td>\n",
       "      <td>0.717128</td>\n",
       "      <td>0.875000</td>\n",
       "    </tr>\n",
       "    <tr>\n",
       "      <th>246</th>\n",
       "      <td>0.958091</td>\n",
       "      <td>0.711938</td>\n",
       "      <td>0.878788</td>\n",
       "    </tr>\n",
       "    <tr>\n",
       "      <th>247</th>\n",
       "      <td>0.958042</td>\n",
       "      <td>0.711073</td>\n",
       "      <td>0.880000</td>\n",
       "    </tr>\n",
       "    <tr>\n",
       "      <th>248</th>\n",
       "      <td>0.958968</td>\n",
       "      <td>0.707612</td>\n",
       "      <td>0.883721</td>\n",
       "    </tr>\n",
       "    <tr>\n",
       "      <th>249</th>\n",
       "      <td>0.958920</td>\n",
       "      <td>0.706747</td>\n",
       "      <td>0.885714</td>\n",
       "    </tr>\n",
       "    <tr>\n",
       "      <th>250</th>\n",
       "      <td>0.958872</td>\n",
       "      <td>0.705882</td>\n",
       "      <td>0.888889</td>\n",
       "    </tr>\n",
       "    <tr>\n",
       "      <th>251</th>\n",
       "      <td>0.959427</td>\n",
       "      <td>0.695502</td>\n",
       "      <td>0.891892</td>\n",
       "    </tr>\n",
       "    <tr>\n",
       "      <th>252</th>\n",
       "      <td>0.960526</td>\n",
       "      <td>0.694637</td>\n",
       "      <td>0.894737</td>\n",
       "    </tr>\n",
       "    <tr>\n",
       "      <th>253</th>\n",
       "      <td>0.963855</td>\n",
       "      <td>0.692042</td>\n",
       "      <td>0.897436</td>\n",
       "    </tr>\n",
       "    <tr>\n",
       "      <th>254</th>\n",
       "      <td>0.963812</td>\n",
       "      <td>0.691176</td>\n",
       "      <td>0.900000</td>\n",
       "    </tr>\n",
       "    <tr>\n",
       "      <th>255</th>\n",
       "      <td>0.964677</td>\n",
       "      <td>0.685121</td>\n",
       "      <td>0.902439</td>\n",
       "    </tr>\n",
       "  </tbody>\n",
       "</table>\n",
       "</div>"
      ],
      "text/plain": [
       "     Precision    Recall  Thresholds\n",
       "236   0.942953  0.729239    0.860000\n",
       "237   0.944009  0.729239    0.862069\n",
       "238   0.943820  0.726644    0.862745\n",
       "239   0.943757  0.725779    0.863636\n",
       "240   0.947727  0.721453    0.864865\n",
       "241   0.947668  0.720588    0.866667\n",
       "242   0.949714  0.718858    0.869565\n",
       "243   0.952874  0.717128    0.870968\n",
       "244   0.953970  0.717128    0.871795\n",
       "245   0.955069  0.717128    0.875000\n",
       "246   0.958091  0.711938    0.878788\n",
       "247   0.958042  0.711073    0.880000\n",
       "248   0.958968  0.707612    0.883721\n",
       "249   0.958920  0.706747    0.885714\n",
       "250   0.958872  0.705882    0.888889\n",
       "251   0.959427  0.695502    0.891892\n",
       "252   0.960526  0.694637    0.894737\n",
       "253   0.963855  0.692042    0.897436\n",
       "254   0.963812  0.691176    0.900000\n",
       "255   0.964677  0.685121    0.902439"
      ]
     },
     "execution_count": 53,
     "metadata": {},
     "output_type": "execute_result"
    }
   ],
   "source": [
    "df = pandas.DataFrame(list(zip(prec, rec, thres)), columns = ['Precision', 'Recall', 'Thresholds'])\n",
    "df.tail(50).head(20)"
   ]
  },
  {
   "cell_type": "code",
   "execution_count": 37,
   "metadata": {},
   "outputs": [
    {
     "data": {
      "text/plain": [
       "0.8076923076923077"
      ]
     },
     "execution_count": 37,
     "metadata": {},
     "output_type": "execute_result"
    }
   ],
   "source": [
    "thres[f1_scores.argmax()]"
   ]
  }
 ],
 "metadata": {
  "kernelspec": {
   "display_name": "Python 3 (ipykernel)",
   "language": "python",
   "name": "python3"
  },
  "language_info": {
   "codemirror_mode": {
    "name": "ipython",
    "version": 3
   },
   "file_extension": ".py",
   "mimetype": "text/x-python",
   "name": "python",
   "nbconvert_exporter": "python",
   "pygments_lexer": "ipython3",
   "version": "3.9.10"
  }
 },
 "nbformat": 4,
 "nbformat_minor": 4
}
