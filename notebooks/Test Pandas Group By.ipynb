{
 "cells": [
  {
   "cell_type": "code",
   "execution_count": 1,
   "metadata": {},
   "outputs": [],
   "source": [
    "import os\n",
    "import csv\n",
    "import sys\n",
    "import time\n",
    "import random\n",
    "import pandas as pd\n",
    "import numpy as np\n",
    "\n",
    "import seaborn as sns\n",
    "import matplotlib.pyplot as plt\n",
    "\n",
    "from sklearn import metrics\n",
    "from sklearn.metrics import roc_auc_score\n",
    "\n",
    "%matplotlib inline"
   ]
  },
  {
   "cell_type": "code",
   "execution_count": 2,
   "metadata": {},
   "outputs": [],
   "source": [
    "# These are determined in the Compare notebook by looking at the validation data\n",
    "max_f1_thresholds = {\n",
    "    'ref0': (1.73684511333704, 0.7828877005347594),\n",
    "    'ref1': (2.1926324367523193, 0.7767903815995818),\n",
    "    'ref2': (0.0, 0.6347046087225487),\n",
    "    'ref3': (0.0, 0.6347046087225487),\n",
    "    'ref4': (0.0, 0.6347046087225487)\n",
    "}"
   ]
  },
  {
   "cell_type": "code",
   "execution_count": 3,
   "metadata": {},
   "outputs": [
    {
     "name": "stdout",
     "output_type": "stream",
     "text": [
      " refset: ref0\n",
      " np_random_seed: 222\n",
      " random_state: 24\n",
      " EPOCHS: 25\n",
      " LR: 1e-06\n",
      " threshold: 1.73684511333704\n",
      " res.shape: (6286475, 2)\n"
     ]
    },
    {
     "data": {
      "text/html": [
       "<div>\n",
       "<style scoped>\n",
       "    .dataframe tbody tr th:only-of-type {\n",
       "        vertical-align: middle;\n",
       "    }\n",
       "\n",
       "    .dataframe tbody tr th {\n",
       "        vertical-align: top;\n",
       "    }\n",
       "\n",
       "    .dataframe thead th {\n",
       "        text-align: right;\n",
       "    }\n",
       "</style>\n",
       "<table border=\"1\" class=\"dataframe\">\n",
       "  <thead>\n",
       "    <tr style=\"text-align: right;\">\n",
       "      <th></th>\n",
       "      <th>0</th>\n",
       "      <th>1</th>\n",
       "    </tr>\n",
       "  </thead>\n",
       "  <tbody>\n",
       "    <tr>\n",
       "      <th>0</th>\n",
       "      <td>5.913762</td>\n",
       "      <td>0.000000</td>\n",
       "    </tr>\n",
       "    <tr>\n",
       "      <th>1</th>\n",
       "      <td>7.485912</td>\n",
       "      <td>0.000000</td>\n",
       "    </tr>\n",
       "    <tr>\n",
       "      <th>2</th>\n",
       "      <td>7.101522</td>\n",
       "      <td>0.000000</td>\n",
       "    </tr>\n",
       "    <tr>\n",
       "      <th>3</th>\n",
       "      <td>1.961310</td>\n",
       "      <td>2.357398</td>\n",
       "    </tr>\n",
       "    <tr>\n",
       "      <th>4</th>\n",
       "      <td>6.181447</td>\n",
       "      <td>0.000000</td>\n",
       "    </tr>\n",
       "  </tbody>\n",
       "</table>\n",
       "</div>"
      ],
      "text/plain": [
       "          0         1\n",
       "0  5.913762  0.000000\n",
       "1  7.485912  0.000000\n",
       "2  7.101522  0.000000\n",
       "3  1.961310  2.357398\n",
       "4  6.181447  0.000000"
      ]
     },
     "execution_count": 3,
     "metadata": {},
     "output_type": "execute_result"
    }
   ],
   "source": [
    "resultspath = '../results/final-bydrug-output-part1_app0_ref0_222_24_25_1e-06.csv.gz'\n",
    "refset = resultspath.split('_')[2]\n",
    "np_random_seed = int(resultspath.split('_')[3])\n",
    "random_state = int(resultspath.split('_')[4])\n",
    "EPOCHS = int(resultspath.split('_')[5])\n",
    "LR = resultspath.split('_')[6].split('.')[0]\n",
    "threshold = max_f1_thresholds[refset][0]\n",
    "\n",
    "print(f\" refset: {refset}\")\n",
    "print(f\" np_random_seed: {np_random_seed}\")\n",
    "print(f\" random_state: {random_state}\")\n",
    "print(f\" EPOCHS: {EPOCHS}\")\n",
    "print(f\" LR: {LR}\")\n",
    "print(f\" threshold: {threshold}\")\n",
    "\n",
    "res = pd.read_csv(resultspath, header=None)\n",
    "\n",
    "print(f\" res.shape: {res.shape}\")\n",
    "res.head()"
   ]
  },
  {
   "cell_type": "code",
   "execution_count": 4,
   "metadata": {},
   "outputs": [
    {
     "data": {
      "text/plain": [
       "(6286475, 4)"
      ]
     },
     "execution_count": 4,
     "metadata": {},
     "output_type": "execute_result"
    }
   ],
   "source": [
    "# datapath = f'../data/ref{refset}_clinical_bert_reference_set.txt'\n",
    "datapath = '../data/output-part1_app0_clinical_bert_application_set.txt.gz'\n",
    "df = pd.read_csv(datapath)\n",
    "df.shape"
   ]
  },
  {
   "cell_type": "code",
   "execution_count": 5,
   "metadata": {},
   "outputs": [
    {
     "data": {
      "text/html": [
       "<div>\n",
       "<style scoped>\n",
       "    .dataframe tbody tr th:only-of-type {\n",
       "        vertical-align: middle;\n",
       "    }\n",
       "\n",
       "    .dataframe tbody tr th {\n",
       "        vertical-align: top;\n",
       "    }\n",
       "\n",
       "    .dataframe thead th {\n",
       "        text-align: right;\n",
       "    }\n",
       "</style>\n",
       "<table border=\"1\" class=\"dataframe\">\n",
       "  <thead>\n",
       "    <tr style=\"text-align: right;\">\n",
       "      <th></th>\n",
       "      <th>drug</th>\n",
       "      <th>llt_id</th>\n",
       "      <th>llt</th>\n",
       "      <th>string</th>\n",
       "      <th>0</th>\n",
       "      <th>1</th>\n",
       "    </tr>\n",
       "  </thead>\n",
       "  <tbody>\n",
       "    <tr>\n",
       "      <th>0</th>\n",
       "      <td>d5f54d14-8ce7-4301-8f5d-2cb40af79a8a</td>\n",
       "      <td>1200067</td>\n",
       "      <td>discharge</td>\n",
       "      <td>discharge pneumonitis deaths have been reporte...</td>\n",
       "      <td>5.913762</td>\n",
       "      <td>0.000000</td>\n",
       "    </tr>\n",
       "    <tr>\n",
       "      <th>1</th>\n",
       "      <td>d5f54d14-8ce7-4301-8f5d-2cb40af79a8a</td>\n",
       "      <td>1200067</td>\n",
       "      <td>discharge</td>\n",
       "      <td>discharge (wbc less than 3000/mm 3 ), pancytop...</td>\n",
       "      <td>7.485912</td>\n",
       "      <td>0.000000</td>\n",
       "    </tr>\n",
       "    <tr>\n",
       "      <th>2</th>\n",
       "      <td>d5f54d14-8ce7-4301-8f5d-2cb40af79a8a</td>\n",
       "      <td>1200350</td>\n",
       "      <td>ulceration</td>\n",
       "      <td>ulceration reported adverse effects are malais...</td>\n",
       "      <td>7.101522</td>\n",
       "      <td>0.000000</td>\n",
       "    </tr>\n",
       "    <tr>\n",
       "      <th>3</th>\n",
       "      <td>d5f54d14-8ce7-4301-8f5d-2cb40af79a8a</td>\n",
       "      <td>1200350</td>\n",
       "      <td>ulceration</td>\n",
       "      <td>ulceration simplex . musculoskeletal system - ...</td>\n",
       "      <td>1.961310</td>\n",
       "      <td>2.357398</td>\n",
       "    </tr>\n",
       "    <tr>\n",
       "      <th>4</th>\n",
       "      <td>d5f54d14-8ce7-4301-8f5d-2cb40af79a8a</td>\n",
       "      <td>1334648</td>\n",
       "      <td>red vision</td>\n",
       "      <td>red vision bleeding, enteritis, pancreatitis. ...</td>\n",
       "      <td>6.181447</td>\n",
       "      <td>0.000000</td>\n",
       "    </tr>\n",
       "  </tbody>\n",
       "</table>\n",
       "</div>"
      ],
      "text/plain": [
       "                                   drug   llt_id         llt  \\\n",
       "0  d5f54d14-8ce7-4301-8f5d-2cb40af79a8a  1200067   discharge   \n",
       "1  d5f54d14-8ce7-4301-8f5d-2cb40af79a8a  1200067   discharge   \n",
       "2  d5f54d14-8ce7-4301-8f5d-2cb40af79a8a  1200350  ulceration   \n",
       "3  d5f54d14-8ce7-4301-8f5d-2cb40af79a8a  1200350  ulceration   \n",
       "4  d5f54d14-8ce7-4301-8f5d-2cb40af79a8a  1334648  red vision   \n",
       "\n",
       "                                              string         0         1  \n",
       "0  discharge pneumonitis deaths have been reporte...  5.913762  0.000000  \n",
       "1  discharge (wbc less than 3000/mm 3 ), pancytop...  7.485912  0.000000  \n",
       "2  ulceration reported adverse effects are malais...  7.101522  0.000000  \n",
       "3  ulceration simplex . musculoskeletal system - ...  1.961310  2.357398  \n",
       "4  red vision bleeding, enteritis, pancreatitis. ...  6.181447  0.000000  "
      ]
     },
     "execution_count": 5,
     "metadata": {},
     "output_type": "execute_result"
    }
   ],
   "source": [
    "df = pd.concat([df, res], axis=1)\n",
    "df.head()"
   ]
  },
  {
   "cell_type": "code",
   "execution_count": 6,
   "metadata": {},
   "outputs": [
    {
     "name": "stdout",
     "output_type": "stream",
     "text": [
      "CPU times: user 1.82 s, sys: 248 ms, total: 2.07 s\n",
      "Wall time: 2.07 s\n"
     ]
    }
   ],
   "source": [
    "%time df_grouped = df.groupby(by=['drug', 'llt']).mean().reset_index()"
   ]
  },
  {
   "cell_type": "code",
   "execution_count": 7,
   "metadata": {},
   "outputs": [],
   "source": [
    "times = [(1e2, 6.13e-3),\n",
    "         (1e3, 6.36e-3),\n",
    "         (1e4, 7.32e-3),\n",
    "         (1e5, 2.49e-2),\n",
    "         (1e6, 0.288),\n",
    "         (len(df), 1.77),\n",
    "]"
   ]
  },
  {
   "cell_type": "code",
   "execution_count": 8,
   "metadata": {},
   "outputs": [
    {
     "data": {
      "image/png": "[encoded data removed]",
      "text/plain": [
       "<Figure size 432x288 with 1 Axes>"
      ]
     },
     "metadata": {
      "needs_background": "light"
     },
     "output_type": "display_data"
    }
   ],
   "source": [
    "x, y = zip(*times)\n",
    "plt.plot(x, y, 'ko--')\n",
    "plt.ylabel('Time (s)')\n",
    "plt.xlabel('Number of Rows')\n",
    "plt.xscale('log')\n",
    "plt.yscale('log')\n",
    "sns.despine()"
   ]
  },
  {
   "cell_type": "code",
   "execution_count": 10,
   "metadata": {},
   "outputs": [],
   "source": [
    "df_grouped['Prediction'] = df_grouped[1] > threshold"
   ]
  },
  {
   "cell_type": "code",
   "execution_count": 11,
   "metadata": {},
   "outputs": [
    {
     "data": {
      "text/html": [
       "<div>\n",
       "<style scoped>\n",
       "    .dataframe tbody tr th:only-of-type {\n",
       "        vertical-align: middle;\n",
       "    }\n",
       "\n",
       "    .dataframe tbody tr th {\n",
       "        vertical-align: top;\n",
       "    }\n",
       "\n",
       "    .dataframe thead th {\n",
       "        text-align: right;\n",
       "    }\n",
       "</style>\n",
       "<table border=\"1\" class=\"dataframe\">\n",
       "  <thead>\n",
       "    <tr style=\"text-align: right;\">\n",
       "      <th></th>\n",
       "      <th>drug</th>\n",
       "      <th>llt</th>\n",
       "      <th>llt_id</th>\n",
       "      <th>0</th>\n",
       "      <th>1</th>\n",
       "      <th>Prediction</th>\n",
       "    </tr>\n",
       "  </thead>\n",
       "  <tbody>\n",
       "    <tr>\n",
       "      <th>0</th>\n",
       "      <td>000e0356-cc97-4c3c-a0f7-57dcf0c52e30</td>\n",
       "      <td>abdominal pain</td>\n",
       "      <td>35708154</td>\n",
       "      <td>0.000000</td>\n",
       "      <td>5.407278</td>\n",
       "      <td>True</td>\n",
       "    </tr>\n",
       "    <tr>\n",
       "      <th>1</th>\n",
       "      <td>000e0356-cc97-4c3c-a0f7-57dcf0c52e30</td>\n",
       "      <td>ache</td>\n",
       "      <td>35843390</td>\n",
       "      <td>8.046981</td>\n",
       "      <td>0.000000</td>\n",
       "      <td>False</td>\n",
       "    </tr>\n",
       "    <tr>\n",
       "      <th>2</th>\n",
       "      <td>000e0356-cc97-4c3c-a0f7-57dcf0c52e30</td>\n",
       "      <td>add</td>\n",
       "      <td>36978837</td>\n",
       "      <td>7.601817</td>\n",
       "      <td>0.000000</td>\n",
       "      <td>False</td>\n",
       "    </tr>\n",
       "    <tr>\n",
       "      <th>3</th>\n",
       "      <td>000e0356-cc97-4c3c-a0f7-57dcf0c52e30</td>\n",
       "      <td>adverse reaction</td>\n",
       "      <td>35809321</td>\n",
       "      <td>8.079834</td>\n",
       "      <td>0.000000</td>\n",
       "      <td>False</td>\n",
       "    </tr>\n",
       "    <tr>\n",
       "      <th>4</th>\n",
       "      <td>000e0356-cc97-4c3c-a0f7-57dcf0c52e30</td>\n",
       "      <td>agranulocytosis</td>\n",
       "      <td>35104874</td>\n",
       "      <td>0.000000</td>\n",
       "      <td>4.898713</td>\n",
       "      <td>True</td>\n",
       "    </tr>\n",
       "  </tbody>\n",
       "</table>\n",
       "</div>"
      ],
      "text/plain": [
       "                                   drug               llt    llt_id         0  \\\n",
       "0  000e0356-cc97-4c3c-a0f7-57dcf0c52e30    abdominal pain  35708154  0.000000   \n",
       "1  000e0356-cc97-4c3c-a0f7-57dcf0c52e30              ache  35843390  8.046981   \n",
       "2  000e0356-cc97-4c3c-a0f7-57dcf0c52e30               add  36978837  7.601817   \n",
       "3  000e0356-cc97-4c3c-a0f7-57dcf0c52e30  adverse reaction  35809321  8.079834   \n",
       "4  000e0356-cc97-4c3c-a0f7-57dcf0c52e30   agranulocytosis  35104874  0.000000   \n",
       "\n",
       "          1  Prediction  \n",
       "0  5.407278        True  \n",
       "1  0.000000       False  \n",
       "2  0.000000       False  \n",
       "3  0.000000       False  \n",
       "4  4.898713        True  "
      ]
     },
     "execution_count": 11,
     "metadata": {},
     "output_type": "execute_result"
    }
   ],
   "source": [
    "df_grouped.head()"
   ]
  },
  {
   "cell_type": "code",
   "execution_count": 12,
   "metadata": {},
   "outputs": [
    {
     "data": {
      "text/plain": [
       "(847008, 6)"
      ]
     },
     "execution_count": 12,
     "metadata": {},
     "output_type": "execute_result"
    }
   ],
   "source": [
    "predictions = df_grouped[df_grouped['Prediction']]\n",
    "predictions.shape"
   ]
  },
  {
   "cell_type": "code",
   "execution_count": 13,
   "metadata": {},
   "outputs": [
    {
     "data": {
      "text/plain": [
       "(1706791, 6)"
      ]
     },
     "execution_count": 13,
     "metadata": {},
     "output_type": "execute_result"
    }
   ],
   "source": [
    "df_grouped.shape"
   ]
  },
  {
   "cell_type": "code",
   "execution_count": 19,
   "metadata": {},
   "outputs": [
    {
     "data": {
      "text/html": [
       "<div>\n",
       "<style scoped>\n",
       "    .dataframe tbody tr th:only-of-type {\n",
       "        vertical-align: middle;\n",
       "    }\n",
       "\n",
       "    .dataframe tbody tr th {\n",
       "        vertical-align: top;\n",
       "    }\n",
       "\n",
       "    .dataframe thead th {\n",
       "        text-align: right;\n",
       "    }\n",
       "</style>\n",
       "<table border=\"1\" class=\"dataframe\">\n",
       "  <thead>\n",
       "    <tr style=\"text-align: right;\">\n",
       "      <th></th>\n",
       "      <th>xml_id</th>\n",
       "      <th>llt</th>\n",
       "      <th>llt_concept_id</th>\n",
       "      <th>0</th>\n",
       "      <th>1</th>\n",
       "      <th>Prediction</th>\n",
       "    </tr>\n",
       "  </thead>\n",
       "  <tbody>\n",
       "    <tr>\n",
       "      <th>0</th>\n",
       "      <td>000e0356-cc97-4c3c-a0f7-57dcf0c52e30</td>\n",
       "      <td>abdominal pain</td>\n",
       "      <td>35708154</td>\n",
       "      <td>0.0</td>\n",
       "      <td>5.407278</td>\n",
       "      <td>True</td>\n",
       "    </tr>\n",
       "    <tr>\n",
       "      <th>4</th>\n",
       "      <td>000e0356-cc97-4c3c-a0f7-57dcf0c52e30</td>\n",
       "      <td>agranulocytosis</td>\n",
       "      <td>35104874</td>\n",
       "      <td>0.0</td>\n",
       "      <td>4.898713</td>\n",
       "      <td>True</td>\n",
       "    </tr>\n",
       "    <tr>\n",
       "      <th>8</th>\n",
       "      <td>000e0356-cc97-4c3c-a0f7-57dcf0c52e30</td>\n",
       "      <td>anaphylactic reaction</td>\n",
       "      <td>36009756</td>\n",
       "      <td>0.0</td>\n",
       "      <td>4.575467</td>\n",
       "      <td>True</td>\n",
       "    </tr>\n",
       "    <tr>\n",
       "      <th>9</th>\n",
       "      <td>000e0356-cc97-4c3c-a0f7-57dcf0c52e30</td>\n",
       "      <td>anemia</td>\n",
       "      <td>35122651</td>\n",
       "      <td>0.0</td>\n",
       "      <td>4.466683</td>\n",
       "      <td>True</td>\n",
       "    </tr>\n",
       "    <tr>\n",
       "      <th>10</th>\n",
       "      <td>000e0356-cc97-4c3c-a0f7-57dcf0c52e30</td>\n",
       "      <td>angioedema</td>\n",
       "      <td>36009762</td>\n",
       "      <td>0.0</td>\n",
       "      <td>5.211185</td>\n",
       "      <td>True</td>\n",
       "    </tr>\n",
       "  </tbody>\n",
       "</table>\n",
       "</div>"
      ],
      "text/plain": [
       "                                  xml_id                    llt  \\\n",
       "0   000e0356-cc97-4c3c-a0f7-57dcf0c52e30         abdominal pain   \n",
       "4   000e0356-cc97-4c3c-a0f7-57dcf0c52e30        agranulocytosis   \n",
       "8   000e0356-cc97-4c3c-a0f7-57dcf0c52e30  anaphylactic reaction   \n",
       "9   000e0356-cc97-4c3c-a0f7-57dcf0c52e30                 anemia   \n",
       "10  000e0356-cc97-4c3c-a0f7-57dcf0c52e30             angioedema   \n",
       "\n",
       "    llt_concept_id    0         1  Prediction  \n",
       "0         35708154  0.0  5.407278        True  \n",
       "4         35104874  0.0  4.898713        True  \n",
       "8         36009756  0.0  4.575467        True  \n",
       "9         35122651  0.0  4.466683        True  \n",
       "10        36009762  0.0  5.211185        True  "
      ]
     },
     "execution_count": 19,
     "metadata": {},
     "output_type": "execute_result"
    }
   ],
   "source": [
    "predictions = predictions.rename(columns={'drug': 'xml_id', 'llt_id':'llt_concept_id'})\n",
    "predictions.head()"
   ]
  },
  {
   "cell_type": "markdown",
   "metadata": {},
   "source": [
    "## Check against those labels manually curated in reference panel\n",
    "\n",
    "This is just to check we get the same/similar performance when going directly from \n",
    "the label downloaded from DailyMed rather than using the label xmls provided by the\n",
    "Demmer-Fushman et al. Scientific Data paper. "
   ]
  },
  {
   "cell_type": "code",
   "execution_count": 120,
   "metadata": {},
   "outputs": [
    {
     "data": {
      "text/html": [
       "<div>\n",
       "<style scoped>\n",
       "    .dataframe tbody tr th:only-of-type {\n",
       "        vertical-align: middle;\n",
       "    }\n",
       "\n",
       "    .dataframe tbody tr th {\n",
       "        vertical-align: top;\n",
       "    }\n",
       "\n",
       "    .dataframe thead th {\n",
       "        text-align: right;\n",
       "    }\n",
       "</style>\n",
       "<table border=\"1\" class=\"dataframe\">\n",
       "  <thead>\n",
       "    <tr style=\"text-align: right;\">\n",
       "      <th></th>\n",
       "      <th>xml_id</th>\n",
       "      <th>zip_id</th>\n",
       "      <th>drug_id</th>\n",
       "    </tr>\n",
       "  </thead>\n",
       "  <tbody>\n",
       "    <tr>\n",
       "      <th>0</th>\n",
       "      <td>ABD6ECF0-DC8E-41DE-89F2-1E36ED9D6535</td>\n",
       "      <td>20060131_ABD6ECF0-DC8E-41DE-89F2-1E36ED9D6535</td>\n",
       "      <td>ABD6ECF0-DC8E-41DE-89F2-1E36ED9D6535</td>\n",
       "    </tr>\n",
       "    <tr>\n",
       "      <th>1</th>\n",
       "      <td>dffb4544-0e47-40cd-9baa-d622075838cc</td>\n",
       "      <td>20060131_dffb4544-0e47-40cd-9baa-d622075838cc</td>\n",
       "      <td>dffb4544-0e47-40cd-9baa-d622075838cc</td>\n",
       "    </tr>\n",
       "    <tr>\n",
       "      <th>2</th>\n",
       "      <td>AAE8B7A4-742A-4BEC-A283-31B9408EE1AA</td>\n",
       "      <td>20060412_AAE8B7A4-742A-4BEC-A283-31B9408EE1AA</td>\n",
       "      <td>AAE8B7A4-742A-4BEC-A283-31B9408EE1AA</td>\n",
       "    </tr>\n",
       "    <tr>\n",
       "      <th>3</th>\n",
       "      <td>0AAAA03E-B258-45EC-89C8-06E1353F57EF</td>\n",
       "      <td>20060525_0AAAA03E-B258-45EC-89C8-06E1353F57EF</td>\n",
       "      <td>0AAAA03E-B258-45EC-89C8-06E1353F57EF</td>\n",
       "    </tr>\n",
       "    <tr>\n",
       "      <th>4</th>\n",
       "      <td>9C4F12E5-5E69-44D4-81A5-BD72C375EEF5</td>\n",
       "      <td>20060621_9C4F12E5-5E69-44D4-81A5-BD72C375EEF5</td>\n",
       "      <td>9C4F12E5-5E69-44D4-81A5-BD72C375EEF5</td>\n",
       "    </tr>\n",
       "  </tbody>\n",
       "</table>\n",
       "</div>"
      ],
      "text/plain": [
       "                                 xml_id  \\\n",
       "0  ABD6ECF0-DC8E-41DE-89F2-1E36ED9D6535   \n",
       "1  dffb4544-0e47-40cd-9baa-d622075838cc   \n",
       "2  AAE8B7A4-742A-4BEC-A283-31B9408EE1AA   \n",
       "3  0AAAA03E-B258-45EC-89C8-06E1353F57EF   \n",
       "4  9C4F12E5-5E69-44D4-81A5-BD72C375EEF5   \n",
       "\n",
       "                                          zip_id  \\\n",
       "0  20060131_ABD6ECF0-DC8E-41DE-89F2-1E36ED9D6535   \n",
       "1  20060131_dffb4544-0e47-40cd-9baa-d622075838cc   \n",
       "2  20060412_AAE8B7A4-742A-4BEC-A283-31B9408EE1AA   \n",
       "3  20060525_0AAAA03E-B258-45EC-89C8-06E1353F57EF   \n",
       "4  20060621_9C4F12E5-5E69-44D4-81A5-BD72C375EEF5   \n",
       "\n",
       "                                drug_id  \n",
       "0  ABD6ECF0-DC8E-41DE-89F2-1E36ED9D6535  \n",
       "1  dffb4544-0e47-40cd-9baa-d622075838cc  \n",
       "2  AAE8B7A4-742A-4BEC-A283-31B9408EE1AA  \n",
       "3  0AAAA03E-B258-45EC-89C8-06E1353F57EF  \n",
       "4  9C4F12E5-5E69-44D4-81A5-BD72C375EEF5  "
      ]
     },
     "execution_count": 120,
     "metadata": {},
     "output_type": "execute_result"
    }
   ],
   "source": [
    "labelmap = pd.read_csv('../data/labels_to_xmlfiles_to_drugs.txt.gz', delimiter='|', header=None, names=['xml_id', 'zip_id', 'drug_id'])\n",
    "labelmap.head()"
   ]
  },
  {
   "cell_type": "code",
   "execution_count": 130,
   "metadata": {},
   "outputs": [
    {
     "data": {
      "text/html": [
       "<div>\n",
       "<style scoped>\n",
       "    .dataframe tbody tr th:only-of-type {\n",
       "        vertical-align: middle;\n",
       "    }\n",
       "\n",
       "    .dataframe tbody tr th {\n",
       "        vertical-align: top;\n",
       "    }\n",
       "\n",
       "    .dataframe thead th {\n",
       "        text-align: right;\n",
       "    }\n",
       "</style>\n",
       "<table border=\"1\" class=\"dataframe\">\n",
       "  <thead>\n",
       "    <tr style=\"text-align: right;\">\n",
       "      <th></th>\n",
       "      <th>Index</th>\n",
       "      <th>Drug ID</th>\n",
       "      <th>Drug Name</th>\n",
       "      <th>Section LOINC</th>\n",
       "      <th>Section Display Name</th>\n",
       "      <th>MedDRA PT</th>\n",
       "      <th>PT ID</th>\n",
       "      <th>MedDRA LLT</th>\n",
       "      <th>LLT ID</th>\n",
       "      <th>Matching String</th>\n",
       "      <th>UMLS CUI</th>\n",
       "      <th>UMLS PrefName</th>\n",
       "      <th>Flag 1</th>\n",
       "      <th>Flag 2</th>\n",
       "    </tr>\n",
       "  </thead>\n",
       "  <tbody>\n",
       "    <tr>\n",
       "      <th>14482</th>\n",
       "      <td>14483</td>\n",
       "      <td>fff5d805-4ffd-4e8e-8e63-6f129697563e</td>\n",
       "      <td>ZYKADIA</td>\n",
       "      <td>43685-7</td>\n",
       "      <td>WARNINGS AND PRECAUTIONS</td>\n",
       "      <td>Sudden death</td>\n",
       "      <td>10042434.0</td>\n",
       "      <td>Sudden death</td>\n",
       "      <td>10042434.0</td>\n",
       "      <td>sudden death</td>\n",
       "      <td>C0011071</td>\n",
       "      <td>Sudden death</td>\n",
       "      <td>NaN</td>\n",
       "      <td>NaN</td>\n",
       "    </tr>\n",
       "    <tr>\n",
       "      <th>14483</th>\n",
       "      <td>14484</td>\n",
       "      <td>fff5d805-4ffd-4e8e-8e63-6f129697563e</td>\n",
       "      <td>ZYKADIA</td>\n",
       "      <td>43685-7</td>\n",
       "      <td>WARNINGS AND PRECAUTIONS</td>\n",
       "      <td>Torsade de pointes</td>\n",
       "      <td>10044066.0</td>\n",
       "      <td>Torsade de pointes</td>\n",
       "      <td>10044066.0</td>\n",
       "      <td>torsade de pointes</td>\n",
       "      <td>C0040479</td>\n",
       "      <td>Torsades de Pointes</td>\n",
       "      <td>NaN</td>\n",
       "      <td>NaN</td>\n",
       "    </tr>\n",
       "    <tr>\n",
       "      <th>14484</th>\n",
       "      <td>14485</td>\n",
       "      <td>fff5d805-4ffd-4e8e-8e63-6f129697563e</td>\n",
       "      <td>ZYKADIA</td>\n",
       "      <td>43685-7</td>\n",
       "      <td>WARNINGS AND PRECAUTIONS</td>\n",
       "      <td>Transaminases increased</td>\n",
       "      <td>10054889.0</td>\n",
       "      <td>Transaminases increased</td>\n",
       "      <td>10054889.0</td>\n",
       "      <td>elevated transaminases</td>\n",
       "      <td>C0438717</td>\n",
       "      <td>Transaminases increased</td>\n",
       "      <td>NaN</td>\n",
       "      <td>NaN</td>\n",
       "    </tr>\n",
       "    <tr>\n",
       "      <th>14485</th>\n",
       "      <td>14486</td>\n",
       "      <td>fff5d805-4ffd-4e8e-8e63-6f129697563e</td>\n",
       "      <td>ZYKADIA</td>\n",
       "      <td>43685-7</td>\n",
       "      <td>WARNINGS AND PRECAUTIONS</td>\n",
       "      <td>Ventricular tachyarrhythmia</td>\n",
       "      <td>10065341.0</td>\n",
       "      <td>Ventricular tachyarrhythmia</td>\n",
       "      <td>10065341.0</td>\n",
       "      <td>ventricular tachyarrhythmias</td>\n",
       "      <td>C0042514</td>\n",
       "      <td>Tachycardia, Ventricular</td>\n",
       "      <td>NaN</td>\n",
       "      <td>NaN</td>\n",
       "    </tr>\n",
       "    <tr>\n",
       "      <th>14486</th>\n",
       "      <td>14487</td>\n",
       "      <td>fff5d805-4ffd-4e8e-8e63-6f129697563e</td>\n",
       "      <td>ZYKADIA</td>\n",
       "      <td>43685-7</td>\n",
       "      <td>WARNINGS AND PRECAUTIONS</td>\n",
       "      <td>Vomiting</td>\n",
       "      <td>10047700.0</td>\n",
       "      <td>Vomiting</td>\n",
       "      <td>10047700.0</td>\n",
       "      <td>vomiting</td>\n",
       "      <td>C0042963</td>\n",
       "      <td>Vomiting</td>\n",
       "      <td>NaN</td>\n",
       "      <td>NaN</td>\n",
       "    </tr>\n",
       "  </tbody>\n",
       "</table>\n",
       "</div>"
      ],
      "text/plain": [
       "       Index                               Drug ID Drug Name Section LOINC  \\\n",
       "14482  14483  fff5d805-4ffd-4e8e-8e63-6f129697563e   ZYKADIA       43685-7   \n",
       "14483  14484  fff5d805-4ffd-4e8e-8e63-6f129697563e   ZYKADIA       43685-7   \n",
       "14484  14485  fff5d805-4ffd-4e8e-8e63-6f129697563e   ZYKADIA       43685-7   \n",
       "14485  14486  fff5d805-4ffd-4e8e-8e63-6f129697563e   ZYKADIA       43685-7   \n",
       "14486  14487  fff5d805-4ffd-4e8e-8e63-6f129697563e   ZYKADIA       43685-7   \n",
       "\n",
       "           Section Display Name                    MedDRA PT       PT ID  \\\n",
       "14482  WARNINGS AND PRECAUTIONS                 Sudden death  10042434.0   \n",
       "14483  WARNINGS AND PRECAUTIONS           Torsade de pointes  10044066.0   \n",
       "14484  WARNINGS AND PRECAUTIONS      Transaminases increased  10054889.0   \n",
       "14485  WARNINGS AND PRECAUTIONS  Ventricular tachyarrhythmia  10065341.0   \n",
       "14486  WARNINGS AND PRECAUTIONS                     Vomiting  10047700.0   \n",
       "\n",
       "                        MedDRA LLT      LLT ID               Matching String  \\\n",
       "14482                 Sudden death  10042434.0                  sudden death   \n",
       "14483           Torsade de pointes  10044066.0            torsade de pointes   \n",
       "14484      Transaminases increased  10054889.0        elevated transaminases   \n",
       "14485  Ventricular tachyarrhythmia  10065341.0  ventricular tachyarrhythmias   \n",
       "14486                     Vomiting  10047700.0                      vomiting   \n",
       "\n",
       "       UMLS CUI             UMLS PrefName Flag 1 Flag 2  \n",
       "14482  C0011071              Sudden death    NaN    NaN  \n",
       "14483  C0040479       Torsades de Pointes    NaN    NaN  \n",
       "14484  C0438717   Transaminases increased    NaN    NaN  \n",
       "14485  C0042514  Tachycardia, Ventricular    NaN    NaN  \n",
       "14486  C0042963                  Vomiting    NaN    NaN  "
      ]
     },
     "execution_count": 130,
     "metadata": {},
     "output_type": "execute_result"
    }
   ],
   "source": [
    "curated = pd.read_csv('../data/200_manual_annotations_csv/FinalReferenceStandard200Labels.csv', delimiter='|')\n",
    "curated.tail()"
   ]
  },
  {
   "cell_type": "code",
   "execution_count": 137,
   "metadata": {},
   "outputs": [],
   "source": [
    "shared_drugs = set(curated[curated['Drug ID'].isin(labelmap['drug_id'])]['Drug ID'])"
   ]
  },
  {
   "cell_type": "code",
   "execution_count": 140,
   "metadata": {},
   "outputs": [
    {
     "name": "stdout",
     "output_type": "stream",
     "text": [
      "9333c79b-d487-4538-a9f0-71b91a02b287 2\n"
     ]
    }
   ],
   "source": [
    "for drug in shared_drugs:\n",
    "    if sum(labelmap['drug_id'] == drug) > 1:\n",
    "        print(drug, sum(labelmap['drug_id'] == drug))"
   ]
  },
  {
   "cell_type": "code",
   "execution_count": 139,
   "metadata": {},
   "outputs": [
    {
     "data": {
      "text/html": [
       "<div>\n",
       "<style scoped>\n",
       "    .dataframe tbody tr th:only-of-type {\n",
       "        vertical-align: middle;\n",
       "    }\n",
       "\n",
       "    .dataframe tbody tr th {\n",
       "        vertical-align: top;\n",
       "    }\n",
       "\n",
       "    .dataframe thead th {\n",
       "        text-align: right;\n",
       "    }\n",
       "</style>\n",
       "<table border=\"1\" class=\"dataframe\">\n",
       "  <thead>\n",
       "    <tr style=\"text-align: right;\">\n",
       "      <th></th>\n",
       "      <th>xml_id</th>\n",
       "      <th>zip_id</th>\n",
       "      <th>drug_id</th>\n",
       "    </tr>\n",
       "  </thead>\n",
       "  <tbody>\n",
       "    <tr>\n",
       "      <th>10873</th>\n",
       "      <td>ae16c72b-6d74-463c-b60c-8ef1d94840f3</td>\n",
       "      <td>20190111_9333c79b-d487-4538-a9f0-71b91a02b287</td>\n",
       "      <td>9333c79b-d487-4538-a9f0-71b91a02b287</td>\n",
       "    </tr>\n",
       "    <tr>\n",
       "      <th>44577</th>\n",
       "      <td>141f94df-19d2-459e-847e-c08f5064b937</td>\n",
       "      <td>20220329_9333c79b-d487-4538-a9f0-71b91a02b287</td>\n",
       "      <td>9333c79b-d487-4538-a9f0-71b91a02b287</td>\n",
       "    </tr>\n",
       "  </tbody>\n",
       "</table>\n",
       "</div>"
      ],
      "text/plain": [
       "                                     xml_id  \\\n",
       "10873  ae16c72b-6d74-463c-b60c-8ef1d94840f3   \n",
       "44577  141f94df-19d2-459e-847e-c08f5064b937   \n",
       "\n",
       "                                              zip_id  \\\n",
       "10873  20190111_9333c79b-d487-4538-a9f0-71b91a02b287   \n",
       "44577  20220329_9333c79b-d487-4538-a9f0-71b91a02b287   \n",
       "\n",
       "                                    drug_id  \n",
       "10873  9333c79b-d487-4538-a9f0-71b91a02b287  \n",
       "44577  9333c79b-d487-4538-a9f0-71b91a02b287  "
      ]
     },
     "execution_count": 139,
     "metadata": {},
     "output_type": "execute_result"
    }
   ],
   "source": [
    "labelmap[labelmap['drug_id']=='9333c79b-d487-4538-a9f0-71b91a02b287']"
   ]
  },
  {
   "cell_type": "code",
   "execution_count": 149,
   "metadata": {},
   "outputs": [
    {
     "data": {
      "text/html": [
       "<div>\n",
       "<style scoped>\n",
       "    .dataframe tbody tr th:only-of-type {\n",
       "        vertical-align: middle;\n",
       "    }\n",
       "\n",
       "    .dataframe tbody tr th {\n",
       "        vertical-align: top;\n",
       "    }\n",
       "\n",
       "    .dataframe thead th {\n",
       "        text-align: right;\n",
       "    }\n",
       "</style>\n",
       "<table border=\"1\" class=\"dataframe\">\n",
       "  <thead>\n",
       "    <tr style=\"text-align: right;\">\n",
       "      <th></th>\n",
       "      <th>drug</th>\n",
       "      <th>llt</th>\n",
       "      <th>llt_id</th>\n",
       "      <th>0</th>\n",
       "      <th>1</th>\n",
       "      <th>Prediction</th>\n",
       "    </tr>\n",
       "  </thead>\n",
       "  <tbody>\n",
       "    <tr>\n",
       "      <th>191885</th>\n",
       "      <td>1d10f043-1fbc-426c-969f-788b3a04e6f4</td>\n",
       "      <td>abdominal distension</td>\n",
       "      <td>35708151</td>\n",
       "      <td>0.000000</td>\n",
       "      <td>5.856255</td>\n",
       "      <td>True</td>\n",
       "    </tr>\n",
       "    <tr>\n",
       "      <th>191886</th>\n",
       "      <td>1d10f043-1fbc-426c-969f-788b3a04e6f4</td>\n",
       "      <td>abdominal pain</td>\n",
       "      <td>35708154</td>\n",
       "      <td>0.000000</td>\n",
       "      <td>4.898390</td>\n",
       "      <td>True</td>\n",
       "    </tr>\n",
       "    <tr>\n",
       "      <th>191887</th>\n",
       "      <td>1d10f043-1fbc-426c-969f-788b3a04e6f4</td>\n",
       "      <td>accommodation disorder</td>\n",
       "      <td>35607452</td>\n",
       "      <td>0.000000</td>\n",
       "      <td>4.325387</td>\n",
       "      <td>True</td>\n",
       "    </tr>\n",
       "    <tr>\n",
       "      <th>191888</th>\n",
       "      <td>1d10f043-1fbc-426c-969f-788b3a04e6f4</td>\n",
       "      <td>ache</td>\n",
       "      <td>35843390</td>\n",
       "      <td>6.985440</td>\n",
       "      <td>0.000000</td>\n",
       "      <td>False</td>\n",
       "    </tr>\n",
       "    <tr>\n",
       "      <th>191889</th>\n",
       "      <td>1d10f043-1fbc-426c-969f-788b3a04e6f4</td>\n",
       "      <td>acute pancreatitis</td>\n",
       "      <td>35736475</td>\n",
       "      <td>0.000000</td>\n",
       "      <td>5.446738</td>\n",
       "      <td>True</td>\n",
       "    </tr>\n",
       "    <tr>\n",
       "      <th>...</th>\n",
       "      <td>...</td>\n",
       "      <td>...</td>\n",
       "      <td>...</td>\n",
       "      <td>...</td>\n",
       "      <td>...</td>\n",
       "      <td>...</td>\n",
       "    </tr>\n",
       "    <tr>\n",
       "      <th>1696533</th>\n",
       "      <td>fe5bdab9-5b6e-4733-a962-c66b871db5af</td>\n",
       "      <td>trali</td>\n",
       "      <td>36256068</td>\n",
       "      <td>9.012747</td>\n",
       "      <td>0.000000</td>\n",
       "      <td>False</td>\n",
       "    </tr>\n",
       "    <tr>\n",
       "      <th>1696534</th>\n",
       "      <td>fe5bdab9-5b6e-4733-a962-c66b871db5af</td>\n",
       "      <td>tremor</td>\n",
       "      <td>36718265</td>\n",
       "      <td>0.000000</td>\n",
       "      <td>4.911359</td>\n",
       "      <td>True</td>\n",
       "    </tr>\n",
       "    <tr>\n",
       "      <th>1696535</th>\n",
       "      <td>fe5bdab9-5b6e-4733-a962-c66b871db5af</td>\n",
       "      <td>uti</td>\n",
       "      <td>36149143</td>\n",
       "      <td>8.820741</td>\n",
       "      <td>0.000000</td>\n",
       "      <td>False</td>\n",
       "    </tr>\n",
       "    <tr>\n",
       "      <th>1696536</th>\n",
       "      <td>fe5bdab9-5b6e-4733-a962-c66b871db5af</td>\n",
       "      <td>vomiting</td>\n",
       "      <td>35708208</td>\n",
       "      <td>0.000000</td>\n",
       "      <td>5.398830</td>\n",
       "      <td>True</td>\n",
       "    </tr>\n",
       "    <tr>\n",
       "      <th>1696537</th>\n",
       "      <td>fe5bdab9-5b6e-4733-a962-c66b871db5af</td>\n",
       "      <td>wen</td>\n",
       "      <td>36671077</td>\n",
       "      <td>8.439806</td>\n",
       "      <td>0.000000</td>\n",
       "      <td>False</td>\n",
       "    </tr>\n",
       "  </tbody>\n",
       "</table>\n",
       "<p>994 rows × 6 columns</p>\n",
       "</div>"
      ],
      "text/plain": [
       "                                         drug                     llt  \\\n",
       "191885   1d10f043-1fbc-426c-969f-788b3a04e6f4    abdominal distension   \n",
       "191886   1d10f043-1fbc-426c-969f-788b3a04e6f4          abdominal pain   \n",
       "191887   1d10f043-1fbc-426c-969f-788b3a04e6f4  accommodation disorder   \n",
       "191888   1d10f043-1fbc-426c-969f-788b3a04e6f4                    ache   \n",
       "191889   1d10f043-1fbc-426c-969f-788b3a04e6f4      acute pancreatitis   \n",
       "...                                       ...                     ...   \n",
       "1696533  fe5bdab9-5b6e-4733-a962-c66b871db5af                   trali   \n",
       "1696534  fe5bdab9-5b6e-4733-a962-c66b871db5af                  tremor   \n",
       "1696535  fe5bdab9-5b6e-4733-a962-c66b871db5af                     uti   \n",
       "1696536  fe5bdab9-5b6e-4733-a962-c66b871db5af                vomiting   \n",
       "1696537  fe5bdab9-5b6e-4733-a962-c66b871db5af                     wen   \n",
       "\n",
       "           llt_id         0         1  Prediction  \n",
       "191885   35708151  0.000000  5.856255        True  \n",
       "191886   35708154  0.000000  4.898390        True  \n",
       "191887   35607452  0.000000  4.325387        True  \n",
       "191888   35843390  6.985440  0.000000       False  \n",
       "191889   35736475  0.000000  5.446738        True  \n",
       "...           ...       ...       ...         ...  \n",
       "1696533  36256068  9.012747  0.000000       False  \n",
       "1696534  36718265  0.000000  4.911359        True  \n",
       "1696535  36149143  8.820741  0.000000       False  \n",
       "1696536  35708208  0.000000  5.398830        True  \n",
       "1696537  36671077  8.439806  0.000000       False  \n",
       "\n",
       "[994 rows x 6 columns]"
      ]
     },
     "execution_count": 149,
     "metadata": {},
     "output_type": "execute_result"
    }
   ],
   "source": [
    "df_inref = df_grouped[df_grouped['drug'].isin(labelmap[labelmap['drug_id'].isin(curated['Drug ID'])]['xml_id'])]\n",
    "df_inref"
   ]
  },
  {
   "cell_type": "code",
   "execution_count": 168,
   "metadata": {},
   "outputs": [
    {
     "data": {
      "text/plain": [
       "(994, 329)"
      ]
     },
     "execution_count": 168,
     "metadata": {},
     "output_type": "execute_result"
    }
   ],
   "source": [
    "xml_id = '1d10f043-1fbc-426c-969f-788b3a04e6f4'\n",
    "'abdominal distension' in set(curated[curated['Drug ID'] == labelmap[labelmap['xml_id']==xml_id]['drug_id'].values[0]]['Matching String'])\n",
    "\n",
    "labels = list()\n",
    "\n",
    "for index, row in df_inref.iterrows():\n",
    "    xml_id = row['drug']\n",
    "    label_bool = row['llt'] in set(curated[curated['Drug ID'] == labelmap[labelmap['xml_id']==xml_id]['drug_id'].values[0]]['Matching String'])\n",
    "    if label_bool:\n",
    "        labels.append(1)\n",
    "    else:\n",
    "        labels.append(0)\n",
    "\n",
    "len(labels), sum(labels)"
   ]
  },
  {
   "cell_type": "code",
   "execution_count": 175,
   "metadata": {},
   "outputs": [
    {
     "name": "stderr",
     "output_type": "stream",
     "text": [
      "<ipython-input-175-a054965f386f>:1: SettingWithCopyWarning: \n",
      "A value is trying to be set on a copy of a slice from a DataFrame.\n",
      "Try using .loc[row_indexer,col_indexer] = value instead\n",
      "\n",
      "See the caveats in the documentation: https://pandas.pydata.org/pandas-docs/stable/user_guide/indexing.html#returning-a-view-versus-a-copy\n",
      "  df_inref['Labels'] = labels\n"
     ]
    }
   ],
   "source": [
    "df_inref['Labels'] = labels"
   ]
  },
  {
   "cell_type": "code",
   "execution_count": 176,
   "metadata": {},
   "outputs": [
    {
     "name": "stdout",
     "output_type": "stream",
     "text": [
      "0.9227415042164682\n",
      "0.8382749326145552\n"
     ]
    }
   ],
   "source": [
    "# This is consistent with the metrics we find when use the labels from the Demmer-Fushman paper \n",
    "# (note: only 9 examples here since we are working on just part of the data - NPT 4/15/22)\n",
    "print(roc_auc_score(df_inref['Labels'], df_inref[1]))\n",
    "print(metrics.f1_score(df_inref['Labels'], df_inref['Prediction']))"
   ]
  },
  {
   "cell_type": "code",
   "execution_count": null,
   "metadata": {},
   "outputs": [],
   "source": []
  }
 ],
 "metadata": {
  "kernelspec": {
   "display_name": "Python 3.8.3",
   "language": "python",
   "name": "py3.8.3"
  },
  "language_info": {
   "codemirror_mode": {
    "name": "ipython",
    "version": 3
   },
   "file_extension": ".py",
   "mimetype": "text/x-python",
   "name": "python",
   "nbconvert_exporter": "python",
   "pygments_lexer": "ipython3",
   "version": "3.8.12"
  }
 },
 "nbformat": 4,
 "nbformat_minor": 4
}
