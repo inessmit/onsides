{
 "cells": [
  {
   "cell_type": "code",
   "execution_count": 1,
   "metadata": {},
   "outputs": [],
   "source": [
    "import os\n",
    "import sys\n",
    "import csv\n",
    "import tqdm\n",
    "\n",
    "from thefuzz import fuzz, process\n",
    "\n",
    "# from fuzzyset import FuzzySet\n",
    "# from cfuzzyset import cFuzzySet as FuzzySet"
   ]
  },
  {
   "cell_type": "code",
   "execution_count": 2,
   "metadata": {},
   "outputs": [],
   "source": [
    "# Load the training data from the provided XML documents and parsed\n",
    "# by the ../src/construct_normalization_training_data.py script.\n",
    "\n",
    "fh = open('../data/train_xml_normalization_data.txt')\n",
    "reader = csv.reader(fh)\n",
    "header = next(reader)\n",
    "\n",
    "training_map = dict()\n",
    "\n",
    "for string, meddra_pt_id in reader:\n",
    "    training_map[string.lower()] = meddra_pt_id\n",
    "    \n",
    "fh.close()"
   ]
  },
  {
   "cell_type": "code",
   "execution_count": 5,
   "metadata": {},
   "outputs": [
    {
     "data": {
      "text/plain": [
       "62571"
      ]
     },
     "execution_count": 5,
     "metadata": {},
     "output_type": "execute_result"
    }
   ],
   "source": [
    "# Load all the strings from meddra 23.1 and map them to the preferred term id\n",
    "fh = open('../data/meddra_pt_llt_map_omop_v23.1.csv')\n",
    "reader = csv.reader(fh)\n",
    "header = next(reader)\n",
    "\n",
    "meddra_strings = dict()\n",
    "# meddra_fuzzyset = FuzzySet()\n",
    "\n",
    "for pt_concept_id, pt_concept_name, pt_meddra_id, llt_concept_id, llt_concept_name, llt_meddra_id in reader:\n",
    "    \n",
    "    meddra_strings[pt_concept_name.lower()] =  pt_meddra_id\n",
    "    meddra_strings[llt_concept_name.lower()] = pt_meddra_id\n",
    "    \n",
    "#     meddra_fuzzyset.add(pt_concept_name.lower())\n",
    "#     meddra_fuzzyset.add(llt_concept_name.lower())\n",
    "\n",
    "fh.close()\n",
    "\n",
    "len(meddra_strings)    "
   ]
  },
  {
   "cell_type": "code",
   "execution_count": 6,
   "metadata": {},
   "outputs": [
    {
     "data": {
      "text/plain": [
       "(1595, 2885)"
      ]
     },
     "execution_count": 6,
     "metadata": {},
     "output_type": "execute_result"
    }
   ],
   "source": [
    "terms_to_match = set()\n",
    "for term in training_map.keys():\n",
    "    if term in meddra_strings:\n",
    "        # exact match, skip\n",
    "        continue\n",
    "    terms_to_match.add(term)\n",
    "\n",
    "len(terms_to_match), len(training_map)"
   ]
  },
  {
   "cell_type": "code",
   "execution_count": 7,
   "metadata": {},
   "outputs": [
    {
     "name": "stderr",
     "output_type": "stream",
     "text": [
      "100%|██████████████████████████████████████████████████████████████████████████████████████████████████████████████████████████████████████| 1595/1595 [1:23:25<00:00,  3.14s/it]\n"
     ]
    },
    {
     "data": {
      "text/plain": [
       "0.3304075235109718"
      ]
     },
     "execution_count": 7,
     "metadata": {},
     "output_type": "execute_result"
    }
   ],
   "source": [
    "correct = 0\n",
    "incorrect = 0\n",
    "\n",
    "choices = set(meddra_strings.keys())\n",
    "\n",
    "for a in tqdm.tqdm(terms_to_match):\n",
    "    \n",
    "    fuzz_match = process.extractOne(a, choices)\n",
    "    pred_meddra_pt_id = meddra_strings[fuzz_match[0]]\n",
    "\n",
    "    if pred_meddra_pt_id == training_map[a]:\n",
    "        correct += 1\n",
    "    else:\n",
    "        incorrect += 1\n",
    "\n",
    "correct/(incorrect+correct)"
   ]
  },
  {
   "cell_type": "code",
   "execution_count": 14,
   "metadata": {},
   "outputs": [
    {
     "data": {
      "text/plain": [
       "1290"
      ]
     },
     "execution_count": 14,
     "metadata": {},
     "output_type": "execute_result"
    }
   ],
   "source": [
    "exact_matches = len(training_map)-len(terms_to_match)\n",
    "exact_matches"
   ]
  },
  {
   "cell_type": "code",
   "execution_count": 15,
   "metadata": {},
   "outputs": [
    {
     "data": {
      "text/plain": [
       "0.6287694974003466"
      ]
     },
     "execution_count": 15,
     "metadata": {},
     "output_type": "execute_result"
    }
   ],
   "source": [
    "(correct+exact_matches)/(incorrect+correct+exact_matches)"
   ]
  },
  {
   "cell_type": "code",
   "execution_count": 16,
   "metadata": {},
   "outputs": [
    {
     "name": "stderr",
     "output_type": "stream",
     "text": [
      "100%|████████████████████████████████████████████████████████████████████████████████████████████████████████████████████████████████████████| 1595/1595 [18:37<00:00,  1.43it/s]\n"
     ]
    },
    {
     "data": {
      "text/plain": [
       "(0.4432601880877743, 0.6922010398613518)"
      ]
     },
     "execution_count": 16,
     "metadata": {},
     "output_type": "execute_result"
    }
   ],
   "source": [
    "correct = 0\n",
    "incorrect = 0\n",
    "\n",
    "choices = set(meddra_strings.keys())\n",
    "\n",
    "for a in tqdm.tqdm(terms_to_match):\n",
    "    \n",
    "    fuzz_match = process.extractOne(a, choices, scorer=fuzz.token_sort_ratio)\n",
    "    pred_meddra_pt_id = meddra_strings[fuzz_match[0]]\n",
    "\n",
    "    if pred_meddra_pt_id == training_map[a]:\n",
    "        correct += 1\n",
    "    else:\n",
    "        incorrect += 1\n",
    "\n",
    "correct/(incorrect+correct), (correct+exact_matches)/(incorrect+correct+exact_matches)"
   ]
  },
  {
   "cell_type": "code",
   "execution_count": null,
   "metadata": {},
   "outputs": [
    {
     "name": "stderr",
     "output_type": "stream",
     "text": [
      "  8%|██████████▌                                                                                                                              | 123/1595 [01:38<19:05,  1.28it/s]"
     ]
    }
   ],
   "source": [
    "correct = 0\n",
    "incorrect = 0\n",
    "\n",
    "choices = set(meddra_strings.keys())\n",
    "\n",
    "for a in tqdm.tqdm(terms_to_match):\n",
    "    \n",
    "    fuzz_match = process.extractOne(a, choices, scorer=fuzz.token_set_ratio)\n",
    "    pred_meddra_pt_id = meddra_strings[fuzz_match[0]]\n",
    "\n",
    "    if pred_meddra_pt_id == training_map[a]:\n",
    "        correct += 1\n",
    "    else:\n",
    "        incorrect += 1\n",
    "\n",
    "correct/(incorrect+correct), (correct+exact_matches)/(incorrect+correct+exact_matches)"
   ]
  },
  {
   "cell_type": "code",
   "execution_count": null,
   "metadata": {},
   "outputs": [],
   "source": []
  }
 ],
 "metadata": {
  "kernelspec": {
   "display_name": "Python 3 (ipykernel)",
   "language": "python",
   "name": "python3"
  },
  "language_info": {
   "codemirror_mode": {
    "name": "ipython",
    "version": 3
   },
   "file_extension": ".py",
   "mimetype": "text/x-python",
   "name": "python",
   "nbconvert_exporter": "python",
   "pygments_lexer": "ipython3",
   "version": "3.9.10"
  }
 },
 "nbformat": 4,
 "nbformat_minor": 4
}
