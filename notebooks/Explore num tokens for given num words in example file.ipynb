{
 "cells": [
  {
   "cell_type": "code",
   "execution_count": 1,
   "metadata": {},
   "outputs": [],
   "source": [
    "import os\n",
    "import sys\n",
    "import csv\n",
    "import time\n",
    "import torch\n",
    "import random\n",
    "from transformers import AutoTokenizer, AutoModel\n",
    "\n",
    "import numpy as np\n",
    "import pandas as pd\n",
    "from tqdm import tqdm\n",
    "\n",
    "import seaborn as sns\n",
    "import matplotlib.pyplot as plt\n",
    "\n",
    "%matplotlib inline"
   ]
  },
  {
   "cell_type": "code",
   "execution_count": 2,
   "metadata": {},
   "outputs": [],
   "source": [
    "max_length = 512"
   ]
  },
  {
   "cell_type": "code",
   "execution_count": 13,
   "metadata": {},
   "outputs": [
    {
     "data": {
      "text/html": [
       "<div>\n",
       "<style scoped>\n",
       "    .dataframe tbody tr th:only-of-type {\n",
       "        vertical-align: middle;\n",
       "    }\n",
       "\n",
       "    .dataframe tbody tr th {\n",
       "        vertical-align: top;\n",
       "    }\n",
       "\n",
       "    .dataframe thead th {\n",
       "        text-align: right;\n",
       "    }\n",
       "</style>\n",
       "<table border=\"1\" class=\"dataframe\">\n",
       "  <thead>\n",
       "    <tr style=\"text-align: right;\">\n",
       "      <th></th>\n",
       "      <th>drug</th>\n",
       "      <th>llt_id</th>\n",
       "      <th>llt</th>\n",
       "      <th>class</th>\n",
       "      <th>string</th>\n",
       "    </tr>\n",
       "  </thead>\n",
       "  <tbody>\n",
       "    <tr>\n",
       "      <th>0</th>\n",
       "      <td>ACTEMRA</td>\n",
       "      <td>1198883</td>\n",
       "      <td>systemic juvenile idiopathic arthritis</td>\n",
       "      <td>not_event</td>\n",
       "      <td>systemic juvenile idiopathic arthritis per l a...</td>\n",
       "    </tr>\n",
       "    <tr>\n",
       "      <th>1</th>\n",
       "      <td>ACTEMRA</td>\n",
       "      <td>1198923</td>\n",
       "      <td>lithiasis</td>\n",
       "      <td>not_event</td>\n",
       "      <td>lithiasis 3 alt increased 6 4 3 3 1 dizziness ...</td>\n",
       "    </tr>\n",
       "    <tr>\n",
       "      <th>2</th>\n",
       "      <td>ACTEMRA</td>\n",
       "      <td>1199508</td>\n",
       "      <td>sjia</td>\n",
       "      <td>not_event</td>\n",
       "      <td>sjia sustained increase in ldl to 4.1 mmol/l (...</td>\n",
       "    </tr>\n",
       "    <tr>\n",
       "      <th>3</th>\n",
       "      <td>ACTEMRA</td>\n",
       "      <td>1199508</td>\n",
       "      <td>sjia</td>\n",
       "      <td>not_event</td>\n",
       "      <td>sjia patients weighing less than 30 kg treated...</td>\n",
       "    </tr>\n",
       "    <tr>\n",
       "      <th>4</th>\n",
       "      <td>ACTEMRA</td>\n",
       "      <td>1199508</td>\n",
       "      <td>sjia</td>\n",
       "      <td>not_event</td>\n",
       "      <td>sjia platelet count at or less than 50 * 10 3 ...</td>\n",
       "    </tr>\n",
       "  </tbody>\n",
       "</table>\n",
       "</div>"
      ],
      "text/plain": [
       "      drug   llt_id                                     llt      class  \\\n",
       "0  ACTEMRA  1198883  systemic juvenile idiopathic arthritis  not_event   \n",
       "1  ACTEMRA  1198923                               lithiasis  not_event   \n",
       "2  ACTEMRA  1199508                                    sjia  not_event   \n",
       "3  ACTEMRA  1199508                                    sjia  not_event   \n",
       "4  ACTEMRA  1199508                                    sjia  not_event   \n",
       "\n",
       "                                              string  \n",
       "0  systemic juvenile idiopathic arthritis per l a...  \n",
       "1  lithiasis 3 alt increased 6 4 3 3 1 dizziness ...  \n",
       "2  sjia sustained increase in ldl to 4.1 mmol/l (...  \n",
       "3  sjia patients weighing less than 30 kg treated...  \n",
       "4  sjia platelet count at or less than 50 * 10 3 ...  "
      ]
     },
     "execution_count": 13,
     "metadata": {},
     "output_type": "execute_result"
    }
   ],
   "source": [
    "# load a reference set\n",
    "df = pd.read_csv('../data/ref0_nwords125_clinical_bert_reference_set_AR.txt')\n",
    "df.head()"
   ]
  },
  {
   "cell_type": "code",
   "execution_count": 14,
   "metadata": {},
   "outputs": [],
   "source": [
    "# load the tokenizer\n",
    "tokenizer = AutoTokenizer.from_pretrained('../models/Bio_ClinicalBERT/')"
   ]
  },
  {
   "cell_type": "code",
   "execution_count": 15,
   "metadata": {},
   "outputs": [
    {
     "name": "stderr",
     "output_type": "stream",
     "text": [
      "100%|██████████| 10000/10000 [00:08<00:00, 1239.92it/s]\n"
     ]
    }
   ],
   "source": [
    "counts = list()\n",
    "for text in tqdm(df.sample(n=10000, random_state=1)['string']):\n",
    "    tokens = tokenizer(text, padding='max_length', max_length=max_length, truncation=True, return_tensors='pt')\n",
    "    nwords = len(text.split())\n",
    "    ntokens = (tokens['input_ids'].numpy()!=0).sum()\n",
    "    counts.append( (nwords, ntokens) )"
   ]
  },
  {
   "cell_type": "code",
   "execution_count": 16,
   "metadata": {},
   "outputs": [
    {
     "data": {
      "text/plain": [
       "(96.0574, 172.4655)"
      ]
     },
     "execution_count": 16,
     "metadata": {},
     "output_type": "execute_result"
    },
    {
     "data": {
      "image/png": "[encoded data removed]",
      "text/plain": [
       "<Figure size 288x288 with 1 Axes>"
      ]
     },
     "metadata": {
      "needs_background": "light"
     },
     "output_type": "display_data"
    }
   ],
   "source": [
    "\n",
    "nwords, ntokens = zip(*counts)\n",
    "\n",
    "\n",
    "plt.figure(figsize=(4,4))\n",
    "plt.scatter(nwords, ntokens, alpha=0.1)\n",
    "plt.xlabel('nwords')\n",
    "plt.ylabel('ntokens')\n",
    "sns.despine()\n",
    "\n",
    "np.mean(nwords), np.mean(ntokens)"
   ]
  },
  {
   "cell_type": "code",
   "execution_count": 17,
   "metadata": {},
   "outputs": [
    {
     "data": {
      "text/plain": [
       "(1.8262833160313, 1.7664670658682635)"
      ]
     },
     "execution_count": 17,
     "metadata": {},
     "output_type": "execute_result"
    },
    {
     "data": {
      "image/png": "[encoded data removed]",
      "text/plain": [
       "<Figure size 432x288 with 1 Axes>"
      ]
     },
     "metadata": {
      "needs_background": "light"
     },
     "output_type": "display_data"
    }
   ],
   "source": [
    "plt.hist(np.array(ntokens)/np.array(nwords))\n",
    "np.mean(np.array(ntokens)/np.array(nwords)), np.median(np.array(ntokens)/np.array(nwords))"
   ]
  },
  {
   "cell_type": "code",
   "execution_count": 18,
   "metadata": {},
   "outputs": [
    {
     "data": {
      "text/plain": [
       "2.0"
      ]
     },
     "execution_count": 18,
     "metadata": {},
     "output_type": "execute_result"
    }
   ],
   "source": [
    "ratios = np.array(ntokens)/np.array(nwords)\n",
    "np.percentile(ratios, 75)"
   ]
  },
  {
   "cell_type": "code",
   "execution_count": null,
   "metadata": {},
   "outputs": [],
   "source": []
  }
 ],
 "metadata": {
  "kernelspec": {
   "display_name": "Python 3",
   "language": "python",
   "name": "python3"
  },
  "language_info": {
   "codemirror_mode": {
    "name": "ipython",
    "version": 3
   },
   "file_extension": ".py",
   "mimetype": "text/x-python",
   "name": "python",
   "nbconvert_exporter": "python",
   "pygments_lexer": "ipython3",
   "version": "3.7.2"
  }
 },
 "nbformat": 4,
 "nbformat_minor": 4
}
