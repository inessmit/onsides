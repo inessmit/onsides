{
 "cells": [
  {
   "cell_type": "code",
   "execution_count": 1,
   "metadata": {},
   "outputs": [],
   "source": [
    "import os\n",
    "import sys\n",
    "import csv\n",
    "import time\n",
    "import torch\n",
    "import random\n",
    "from transformers import AutoTokenizer, AutoModel\n",
    "\n",
    "import numpy as np\n",
    "import pandas as pd\n",
    "from tqdm import tqdm\n",
    "\n",
    "import seaborn as sns\n",
    "import matplotlib.pyplot as plt\n",
    "\n",
    "%matplotlib inline"
   ]
  },
  {
   "cell_type": "code",
   "execution_count": 7,
   "metadata": {},
   "outputs": [],
   "source": [
    "max_length = 512"
   ]
  },
  {
   "cell_type": "code",
   "execution_count": 2,
   "metadata": {},
   "outputs": [
    {
     "data": {
      "text/html": [
       "<div>\n",
       "<style scoped>\n",
       "    .dataframe tbody tr th:only-of-type {\n",
       "        vertical-align: middle;\n",
       "    }\n",
       "\n",
       "    .dataframe tbody tr th {\n",
       "        vertical-align: top;\n",
       "    }\n",
       "\n",
       "    .dataframe thead th {\n",
       "        text-align: right;\n",
       "    }\n",
       "</style>\n",
       "<table border=\"1\" class=\"dataframe\">\n",
       "  <thead>\n",
       "    <tr style=\"text-align: right;\">\n",
       "      <th></th>\n",
       "      <th>drug</th>\n",
       "      <th>llt_id</th>\n",
       "      <th>llt</th>\n",
       "      <th>class</th>\n",
       "      <th>string</th>\n",
       "    </tr>\n",
       "  </thead>\n",
       "  <tbody>\n",
       "    <tr>\n",
       "      <th>0</th>\n",
       "      <td>DOTAREM</td>\n",
       "      <td>1197995</td>\n",
       "      <td>asat</td>\n",
       "      <td>not_event</td>\n",
       "      <td>asat reaction rate (%) n=2813 nausea 0.6% head...</td>\n",
       "    </tr>\n",
       "    <tr>\n",
       "      <th>1</th>\n",
       "      <td>DOTAREM</td>\n",
       "      <td>35204924</td>\n",
       "      <td>arrhythmia</td>\n",
       "      <td>is_event</td>\n",
       "      <td>arrhythmia 6.2 postmarketing experience the fo...</td>\n",
       "    </tr>\n",
       "    <tr>\n",
       "      <th>2</th>\n",
       "      <td>DOTAREM</td>\n",
       "      <td>35204928</td>\n",
       "      <td>bradycardia</td>\n",
       "      <td>is_event</td>\n",
       "      <td>bradycardia without treatment. 6.2 postmarketi...</td>\n",
       "    </tr>\n",
       "    <tr>\n",
       "      <th>3</th>\n",
       "      <td>DOTAREM</td>\n",
       "      <td>35204948</td>\n",
       "      <td>tachycardia</td>\n",
       "      <td>is_event</td>\n",
       "      <td>tachycardia treatment. 6.2 postmarketing exper...</td>\n",
       "    </tr>\n",
       "    <tr>\n",
       "      <th>4</th>\n",
       "      <td>DOTAREM</td>\n",
       "      <td>35204966</td>\n",
       "      <td>cardiac arrest</td>\n",
       "      <td>is_event</td>\n",
       "      <td>cardiac arrest been identified during postmark...</td>\n",
       "    </tr>\n",
       "  </tbody>\n",
       "</table>\n",
       "</div>"
      ],
      "text/plain": [
       "      drug    llt_id             llt      class  \\\n",
       "0  DOTAREM   1197995            asat  not_event   \n",
       "1  DOTAREM  35204924      arrhythmia   is_event   \n",
       "2  DOTAREM  35204928     bradycardia   is_event   \n",
       "3  DOTAREM  35204948     tachycardia   is_event   \n",
       "4  DOTAREM  35204966  cardiac arrest   is_event   \n",
       "\n",
       "                                              string  \n",
       "0  asat reaction rate (%) n=2813 nausea 0.6% head...  \n",
       "1  arrhythmia 6.2 postmarketing experience the fo...  \n",
       "2  bradycardia without treatment. 6.2 postmarketi...  \n",
       "3  tachycardia treatment. 6.2 postmarketing exper...  \n",
       "4  cardiac arrest been identified during postmark...  "
      ]
     },
     "execution_count": 2,
     "metadata": {},
     "output_type": "execute_result"
    }
   ],
   "source": [
    "# load a reference set\n",
    "df = pd.read_csv('../data/ref0_clinical_bert_reference_set.txt')\n",
    "df.head()"
   ]
  },
  {
   "cell_type": "code",
   "execution_count": 3,
   "metadata": {},
   "outputs": [],
   "source": [
    "# load the tokenizer\n",
    "tokenizer = AutoTokenizer.from_pretrained('../models/Bio_ClinicalBERT/')"
   ]
  },
  {
   "cell_type": "code",
   "execution_count": 30,
   "metadata": {},
   "outputs": [
    {
     "name": "stderr",
     "output_type": "stream",
     "text": [
      "100%|██████████| 113397/113397 [00:53<00:00, 2119.63it/s]\n"
     ]
    }
   ],
   "source": [
    "counts = list()\n",
    "for text in tqdm(df['string']):\n",
    "    tokens = tokenizer(text, padding='max_length', max_length=max_length, truncation=True, return_tensors='pt')\n",
    "    nwords = len(text.split())\n",
    "    ntokens = (tokens['input_ids'].numpy()!=0).sum()\n",
    "    counts.append( (nwords, ntokens) )"
   ]
  },
  {
   "cell_type": "code",
   "execution_count": 32,
   "metadata": {},
   "outputs": [
    {
     "data": {
      "text/plain": [
       "(62.60844643156344, 115.08418212122014)"
      ]
     },
     "execution_count": 32,
     "metadata": {},
     "output_type": "execute_result"
    },
    {
     "data": {
      "image/png": "[encoded data removed]",
      "text/plain": [
       "<Figure size 432x288 with 1 Axes>"
      ]
     },
     "metadata": {
      "needs_background": "light"
     },
     "output_type": "display_data"
    }
   ],
   "source": [
    "nwords, ntokens = zip(*counts)\n",
    "plt.scatter(nwords, ntokens)\n",
    "plt.xlabel('nwords')\n",
    "plt.ylabel('ntokens')\n",
    "np.mean(nwords), np.mean(ntokens)"
   ]
  },
  {
   "cell_type": "code",
   "execution_count": 36,
   "metadata": {},
   "outputs": [
    {
     "data": {
      "text/plain": [
       "(1.8450337825440766, 1.778688524590164)"
      ]
     },
     "execution_count": 36,
     "metadata": {},
     "output_type": "execute_result"
    },
    {
     "data": {
      "image/png": "[encoded data removed]",
      "text/plain": [
       "<Figure size 432x288 with 1 Axes>"
      ]
     },
     "metadata": {
      "needs_background": "light"
     },
     "output_type": "display_data"
    }
   ],
   "source": [
    "plt.hist(np.array(ntokens)/np.array(nwords))\n",
    "np.mean(np.array(ntokens)/np.array(nwords)), np.median(np.array(ntokens)/np.array(nwords))"
   ]
  },
  {
   "cell_type": "code",
   "execution_count": 41,
   "metadata": {},
   "outputs": [
    {
     "data": {
      "text/plain": [
       "2.046875"
      ]
     },
     "execution_count": 41,
     "metadata": {},
     "output_type": "execute_result"
    }
   ],
   "source": [
    "ratios = np.array(ntokens)/np.array(nwords)\n",
    "np.percentile(ratios, 75)"
   ]
  },
  {
   "cell_type": "code",
   "execution_count": null,
   "metadata": {},
   "outputs": [],
   "source": []
  }
 ],
 "metadata": {
  "kernelspec": {
   "display_name": "Python 3.8.3",
   "language": "python",
   "name": "py3.8.3"
  },
  "language_info": {
   "codemirror_mode": {
    "name": "ipython",
    "version": 3
   },
   "file_extension": ".py",
   "mimetype": "text/x-python",
   "name": "python",
   "nbconvert_exporter": "python",
   "pygments_lexer": "ipython3",
   "version": "3.8.12"
  }
 },
 "nbformat": 4,
 "nbformat_minor": 4
}
