{
 "cells": [
  {
   "cell_type": "code",
   "execution_count": 11,
   "metadata": {},
   "outputs": [],
   "source": [
    "import os\n",
    "import sys\n",
    "\n",
    "import scipy as sp\n",
    "import numpy as np\n",
    "import seaborn as sns\n",
    "import matplotlib.pyplot as plt\n",
    "\n",
    "%matplotlib inline"
   ]
  },
  {
   "cell_type": "code",
   "execution_count": 3,
   "metadata": {},
   "outputs": [],
   "source": [
    "data_points = [\n",
    "    (512, 16),\n",
    "    (32, 512),\n",
    "    (16, 1024),\n",
    "    (128, 128),\n",
    "    (256, 32),\n",
    "]"
   ]
  },
  {
   "cell_type": "code",
   "execution_count": 15,
   "metadata": {},
   "outputs": [
    {
     "data": {
      "image/png": "[encoded data removed]",
      "text/plain": [
       "<Figure size 432x288 with 1 Axes>"
      ]
     },
     "metadata": {
      "needs_background": "light"
     },
     "output_type": "display_data"
    }
   ],
   "source": [
    "max_lengths, batch_sizes = zip(*data_points) \n",
    "plt.plot(max_lengths, batch_sizes, 'ko')\n",
    "plt.xlabel('MAX_LENGTH')\n",
    "plt.ylabel('BATCH_SIZE')\n",
    "plt.yscale('log')\n",
    "plt.xscale('log')\n",
    "sns.despine()"
   ]
  },
  {
   "cell_type": "code",
   "execution_count": 13,
   "metadata": {},
   "outputs": [
    {
     "data": {
      "text/plain": [
       "(-1.2209302325581395,\n",
       " 10.437506963082898,\n",
       " 0.98613595706619,\n",
       " 0.0006957284520379413)"
      ]
     },
     "execution_count": 13,
     "metadata": {},
     "output_type": "execute_result"
    }
   ],
   "source": [
    "lr = sp.stats.linregress(np.log(max_lengths), np.log(batch_sizes))\n",
    "lr.slope, lr.intercept, lr.rvalue**2, lr.pvalue"
   ]
  },
  {
   "cell_type": "code",
   "execution_count": 36,
   "metadata": {},
   "outputs": [
    {
     "data": {
      "text/plain": [
       "16"
      ]
     },
     "execution_count": 36,
     "metadata": {},
     "output_type": "execute_result"
    }
   ],
   "source": [
    "def batch_size_estimate(max_length):\n",
    "    log_bs = -1.2209302325581395*np.log(max_length)+10.437506963082898\n",
    "    bs = np.exp(log_bs)\n",
    "    power = np.log2(bs)\n",
    "    return 2**round(power)\n",
    "\n",
    "batch_size_estimate(512)"
   ]
  },
  {
   "cell_type": "code",
   "execution_count": 37,
   "metadata": {},
   "outputs": [
    {
     "data": {
      "image/png": "[encoded data removed]",
      "text/plain": [
       "<Figure size 432x288 with 1 Axes>"
      ]
     },
     "metadata": {
      "needs_background": "light"
     },
     "output_type": "display_data"
    }
   ],
   "source": [
    "max_lengths, batch_sizes = zip(*sorted(data_points))\n",
    "\n",
    "sim_max_lengths = range(min(max_lengths), max(max_lengths), 10)\n",
    "pred_batch_sizes = [batch_size_estimate(ml) for ml in sim_max_lengths]\n",
    "\n",
    "plt.plot(max_lengths, batch_sizes, 'ko')\n",
    "plt.plot(sim_max_lengths, pred_batch_sizes, 'r--')\n",
    "\n",
    "plt.xlabel('MAX_LENGTH')\n",
    "plt.ylabel('BATCH_SIZE')\n",
    "# plt.yscale('log')\n",
    "# plt.xscale('log')\n",
    "sns.despine()"
   ]
  },
  {
   "cell_type": "code",
   "execution_count": null,
   "metadata": {},
   "outputs": [],
   "source": []
  }
 ],
 "metadata": {
  "kernelspec": {
   "display_name": "Python 3.8.3",
   "language": "python",
   "name": "py3.8.3"
  },
  "language_info": {
   "codemirror_mode": {
    "name": "ipython",
    "version": 3
   },
   "file_extension": ".py",
   "mimetype": "text/x-python",
   "name": "python",
   "nbconvert_exporter": "python",
   "pygments_lexer": "ipython3",
   "version": "3.8.12"
  }
 },
 "nbformat": 4,
 "nbformat_minor": 4
}
