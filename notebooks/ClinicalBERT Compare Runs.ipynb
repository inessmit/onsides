{
 "cells": [
  {
   "cell_type": "code",
   "execution_count": 16,
   "metadata": {},
   "outputs": [],
   "source": [
    "import os\n",
    "import csv\n",
    "import sys\n",
    "import random\n",
    "import pandas as pd\n",
    "import numpy as np\n",
    "\n",
    "import seaborn as sns\n",
    "import matplotlib.pyplot as plt\n",
    "\n",
    "from sklearn import metrics\n",
    "from sklearn.metrics import roc_auc_score\n",
    "\n",
    "pd.options.mode.chained_assignment = None  # default='warn'\n",
    "\n",
    "%matplotlib inline"
   ]
  },
  {
   "cell_type": "code",
   "execution_count": 28,
   "metadata": {},
   "outputs": [
    {
     "name": "stdout",
     "output_type": "stream",
     "text": [
      "total 11112\r\n",
      "-rw-r--r--  1 nick  staff  660500 Apr 13 19:47 final-bydrug_0_222_24_25_1e-06.csv\r\n",
      "-rw-r--r--  1 nick  staff  660500 Apr 13 19:47 final-bydrug_1_222_24_25_1e-06.csv\r\n",
      "-rw-r--r--  1 nick  staff  660500 Apr 13 19:47 final-bydrug_222_24_25_1e-06.csv\r\n",
      "-rw-r--r--  1 nick  staff  660500 Apr 13 19:47 final-bydrug_2_222_24_25_1e-06.csv\r\n",
      "-rw-r--r--  1 nick  staff  660500 Apr 13 19:47 final-bydrug_3_222_24_25_1e-06.csv\r\n",
      "-rw-r--r--  1 nick  staff  660500 Apr 12 22:09 final-bydrug_O_222_24_25_1e-06.csv\r\n",
      "-rw-r--r--  1 nick  staff  567000 Apr 12 07:49 test_pred_222_24_25_1e-06.csv\r\n",
      "-rw-r--r--  1 nick  staff  567000 Apr 13 19:47 test_pred_222_24_25_1e-06.pth.csv\r\n",
      "-rw-r--r--  1 nick  staff  567000 Apr 13 19:47 test_pred_222_24_5_1e-06.csv\r\n"
     ]
    }
   ],
   "source": [
    "ll ../results"
   ]
  },
  {
   "cell_type": "code",
   "execution_count": 29,
   "metadata": {},
   "outputs": [],
   "source": [
    "results_files = ['../results/final-bydrug_0_222_24_25_1e-06.csv', \n",
    "                 '../results/final-bydrug_1_222_24_25_1e-06.csv',\n",
    "                 '../results/final-bydrug_2_222_24_25_1e-06.csv',\n",
    "                 '../results/final-bydrug_3_222_24_25_1e-06.csv']"
   ]
  },
  {
   "cell_type": "code",
   "execution_count": 30,
   "metadata": {},
   "outputs": [],
   "source": [
    "labels = {'not_event': 0, 'is_event': 1}"
   ]
  },
  {
   "cell_type": "code",
   "execution_count": 31,
   "metadata": {},
   "outputs": [
    {
     "data": {
      "text/html": [
       "<div>\n",
       "<style scoped>\n",
       "    .dataframe tbody tr th:only-of-type {\n",
       "        vertical-align: middle;\n",
       "    }\n",
       "\n",
       "    .dataframe tbody tr th {\n",
       "        vertical-align: top;\n",
       "    }\n",
       "\n",
       "    .dataframe thead th {\n",
       "        text-align: right;\n",
       "    }\n",
       "</style>\n",
       "<table border=\"1\" class=\"dataframe\">\n",
       "  <thead>\n",
       "    <tr style=\"text-align: right;\">\n",
       "      <th></th>\n",
       "      <th>drug</th>\n",
       "      <th>llt_id</th>\n",
       "      <th>llt</th>\n",
       "      <th>class</th>\n",
       "      <th>string</th>\n",
       "    </tr>\n",
       "  </thead>\n",
       "  <tbody>\n",
       "    <tr>\n",
       "      <th>0</th>\n",
       "      <td>Cimzia</td>\n",
       "      <td>35104113</td>\n",
       "      <td>pancytopenia</td>\n",
       "      <td>is_event</td>\n",
       "      <td>pancytopenia arthralgia (6% cimzia, 4% placebo...</td>\n",
       "    </tr>\n",
       "    <tr>\n",
       "      <th>1</th>\n",
       "      <td>Cimzia</td>\n",
       "      <td>35104746</td>\n",
       "      <td>lymphadenopathy</td>\n",
       "      <td>is_event</td>\n",
       "      <td>lymphadenopathy and arthralgia (6% cimzia, 4% ...</td>\n",
       "    </tr>\n",
       "    <tr>\n",
       "      <th>2</th>\n",
       "      <td>Cimzia</td>\n",
       "      <td>35104868</td>\n",
       "      <td>leukopenia</td>\n",
       "      <td>is_event</td>\n",
       "      <td>leukopenia patients, and arthralgia (6% cimzia...</td>\n",
       "    </tr>\n",
       "    <tr>\n",
       "      <th>3</th>\n",
       "      <td>Cimzia</td>\n",
       "      <td>35122651</td>\n",
       "      <td>anemia</td>\n",
       "      <td>is_event</td>\n",
       "      <td>anemia placebo-treated patients, and arthralgi...</td>\n",
       "    </tr>\n",
       "    <tr>\n",
       "      <th>4</th>\n",
       "      <td>Cimzia</td>\n",
       "      <td>35122884</td>\n",
       "      <td>cytopenia</td>\n",
       "      <td>not_event</td>\n",
       "      <td>cytopenia (6% cimzia, 4% placebo). other adver...</td>\n",
       "    </tr>\n",
       "  </tbody>\n",
       "</table>\n",
       "</div>"
      ],
      "text/plain": [
       "     drug    llt_id              llt      class  \\\n",
       "0  Cimzia  35104113     pancytopenia   is_event   \n",
       "1  Cimzia  35104746  lymphadenopathy   is_event   \n",
       "2  Cimzia  35104868       leukopenia   is_event   \n",
       "3  Cimzia  35122651           anemia   is_event   \n",
       "4  Cimzia  35122884        cytopenia  not_event   \n",
       "\n",
       "                                              string  \n",
       "0  pancytopenia arthralgia (6% cimzia, 4% placebo...  \n",
       "1  lymphadenopathy and arthralgia (6% cimzia, 4% ...  \n",
       "2  leukopenia patients, and arthralgia (6% cimzia...  \n",
       "3  anemia placebo-treated patients, and arthralgi...  \n",
       "4  cytopenia (6% cimzia, 4% placebo). other adver...  "
      ]
     },
     "execution_count": 31,
     "metadata": {},
     "output_type": "execute_result"
    }
   ],
   "source": [
    "datapath = '../data/clinical_bert_reference_set.txt'\n",
    "df = pd.read_csv(datapath)\n",
    "df.head()"
   ]
  },
  {
   "cell_type": "code",
   "execution_count": 32,
   "metadata": {},
   "outputs": [
    {
     "data": {
      "text/plain": [
       "((88369, 5), (11818, 5), (13210, 5))"
      ]
     },
     "execution_count": 32,
     "metadata": {},
     "output_type": "execute_result"
    }
   ],
   "source": [
    "druglist = sorted(set(df['drug']))\n",
    "\n",
    "random.seed(np_random_seed)\n",
    "random.shuffle(druglist)\n",
    "\n",
    "drugs_train, drugs_val, drugs_test = np.split(druglist, [int(0.8*len(druglist)), int(0.9*len(druglist))])\n",
    "\n",
    "len(drugs_train), len(drugs_val), len(drugs_test)\n",
    "\n",
    "df_train = df[df['drug'].isin(drugs_train)]\n",
    "df_val = df[df['drug'].isin(drugs_val)]\n",
    "df_test = df[df['drug'].isin(drugs_test)]\n",
    "\n",
    "df_train.shape, df_val.shape, df_test.shape"
   ]
  },
  {
   "cell_type": "code",
   "execution_count": 33,
   "metadata": {},
   "outputs": [
    {
     "data": {
      "text/plain": [
       "1074"
      ]
     },
     "execution_count": 33,
     "metadata": {},
     "output_type": "execute_result"
    }
   ],
   "source": [
    "refset_fn = '../data/200_manual_annotations_csv/FinalReferenceStandard200Labels.csv'\n",
    "refset_fh = open(refset_fn)\n",
    "reader = csv.reader(refset_fh, delimiter='|')\n",
    "header = next(reader)\n",
    "\n",
    "gold_standard = set()\n",
    "for row in reader:\n",
    "    data = dict(zip(header, row))\n",
    "    if data['Section Display Name'] != 'ADVERSE REACTIONS':\n",
    "        continue\n",
    "    \n",
    "    if not data['Drug Name'] in drugs_test:\n",
    "        continue\n",
    "    \n",
    "    gold_standard.add((data['Drug Name'], data['Matching String'].lower()))\n",
    "\n",
    "refset_fh.close()\n",
    "len(gold_standard)"
   ]
  },
  {
   "cell_type": "code",
   "execution_count": 34,
   "metadata": {},
   "outputs": [
    {
     "name": "stdout",
     "output_type": "stream",
     "text": [
      " refset: 0\n",
      " np_random_seed: 222\n",
      " random_state: 24\n",
      " EPOCHS: 25\n",
      " LR: 1e-06\n",
      "\n",
      " refset: 1\n",
      " np_random_seed: 222\n",
      " random_state: 24\n",
      " EPOCHS: 25\n",
      " LR: 1e-06\n",
      "\n"
     ]
    },
    {
     "name": "stderr",
     "output_type": "stream",
     "text": [
      "<ipython-input-34-5ca7d89cc252>:36: MatplotlibDeprecationWarning: Adding an axes using the same arguments as a previous axes currently reuses the earlier instance.  In a future version, a new instance will always be created and returned.  Meanwhile, this warning can be suppressed, and the future behavior ensured, by passing a unique label to each axes instance.\n",
      "  plt.subplot(1, 2, 1)\n",
      "<ipython-input-34-5ca7d89cc252>:45: MatplotlibDeprecationWarning: Adding an axes using the same arguments as a previous axes currently reuses the earlier instance.  In a future version, a new instance will always be created and returned.  Meanwhile, this warning can be suppressed, and the future behavior ensured, by passing a unique label to each axes instance.\n",
      "  plt.subplot(1, 2, 2)\n"
     ]
    },
    {
     "name": "stdout",
     "output_type": "stream",
     "text": [
      " refset: 2\n",
      " np_random_seed: 222\n",
      " random_state: 24\n",
      " EPOCHS: 25\n",
      " LR: 1e-06\n",
      "\n"
     ]
    },
    {
     "name": "stderr",
     "output_type": "stream",
     "text": [
      "<ipython-input-34-5ca7d89cc252>:36: MatplotlibDeprecationWarning: Adding an axes using the same arguments as a previous axes currently reuses the earlier instance.  In a future version, a new instance will always be created and returned.  Meanwhile, this warning can be suppressed, and the future behavior ensured, by passing a unique label to each axes instance.\n",
      "  plt.subplot(1, 2, 1)\n",
      "<ipython-input-34-5ca7d89cc252>:45: MatplotlibDeprecationWarning: Adding an axes using the same arguments as a previous axes currently reuses the earlier instance.  In a future version, a new instance will always be created and returned.  Meanwhile, this warning can be suppressed, and the future behavior ensured, by passing a unique label to each axes instance.\n",
      "  plt.subplot(1, 2, 2)\n"
     ]
    },
    {
     "name": "stdout",
     "output_type": "stream",
     "text": [
      " refset: 3\n",
      " np_random_seed: 222\n",
      " random_state: 24\n",
      " EPOCHS: 25\n",
      " LR: 1e-06\n",
      "\n"
     ]
    },
    {
     "name": "stderr",
     "output_type": "stream",
     "text": [
      "<ipython-input-34-5ca7d89cc252>:36: MatplotlibDeprecationWarning: Adding an axes using the same arguments as a previous axes currently reuses the earlier instance.  In a future version, a new instance will always be created and returned.  Meanwhile, this warning can be suppressed, and the future behavior ensured, by passing a unique label to each axes instance.\n",
      "  plt.subplot(1, 2, 1)\n",
      "<ipython-input-34-5ca7d89cc252>:45: MatplotlibDeprecationWarning: Adding an axes using the same arguments as a previous axes currently reuses the earlier instance.  In a future version, a new instance will always be created and returned.  Meanwhile, this warning can be suppressed, and the future behavior ensured, by passing a unique label to each axes instance.\n",
      "  plt.subplot(1, 2, 2)\n"
     ]
    },
    {
     "data": {
      "image/png": "[encoded data removed]",
      "text/plain": [
       "<Figure size 576x288 with 2 Axes>"
      ]
     },
     "metadata": {},
     "output_type": "display_data"
    }
   ],
   "source": [
    "sns.set(style='ticks', font_scale=1.2)\n",
    "plt.figure(figsize=(8,4))\n",
    "first = True\n",
    "\n",
    "for resultspath in results_files:\n",
    "    refset = resultspath.split('_')[1]\n",
    "    np_random_seed = int(resultspath.split('_')[2])\n",
    "    random_state = int(resultspath.split('_')[3])\n",
    "    EPOCHS = int(resultspath.split('_')[4])\n",
    "    LR = resultspath.split('_')[5].split('.')[0]\n",
    "\n",
    "    print(f\" refset: {refset}\")\n",
    "    print(f\" np_random_seed: {np_random_seed}\")\n",
    "    print(f\" random_state: {random_state}\")\n",
    "    print(f\" EPOCHS: {EPOCHS}\")\n",
    "    print(f\" LR: {LR}\\n\")\n",
    "    \n",
    "    res = pd.read_csv(resultspath, header=None)\n",
    "    \n",
    "    df_test['Pred0'] = res[0].to_numpy()\n",
    "    df_test['Pred1'] = res[1].to_numpy()\n",
    "    \n",
    "    df_test_grouped = df_test[['drug', 'llt', 'Pred1', 'Pred0']].groupby(by=['drug', 'llt']).mean().reset_index()\n",
    "\n",
    "    # for all of the drug, event pairs that couldn't be scored we add them with 0's \n",
    "    # otherwise we will way overestimate our recall\n",
    "    scored_pairs = set()\n",
    "    for index, row in df_test_grouped.iterrows():\n",
    "        scored_pairs.add((row['drug'], row['llt']))\n",
    "\n",
    "    for d, e in (gold_standard-scored_pairs):\n",
    "        df_test_grouped = df_test_grouped.append({'drug': d, 'llt': e, 'Pred1': 0.0, 'Pred0': 0.0}, ignore_index=True)\n",
    "    \n",
    "    grouped_y = [1 if ((row['drug'], row['llt']) in gold_standard) else 0 for index, row in df_test_grouped.iterrows()]\n",
    "    \n",
    "    plt.subplot(1, 2, 1)\n",
    "    fpr, tpr, thresholds = metrics.roc_curve(grouped_y, df_test_grouped['Pred1'])\n",
    "    plt.plot(fpr, tpr, label='%s AUROC=%.0f%%' % (refset, 100*roc_auc_score(grouped_y, df_test_grouped['Pred1'])))\n",
    "    plt.legend()\n",
    "    if first:\n",
    "        plt.ylabel('True Positive Rate')\n",
    "        plt.xlabel('False Positive Rate')\n",
    "        sns.despine()\n",
    "    \n",
    "    plt.subplot(1, 2, 2)\n",
    "    precision, recall, thresholds = metrics.precision_recall_curve(grouped_y, df_test_grouped['Pred1'])\n",
    "    numerator = 2 * recall * precision\n",
    "    denom = recall + precision\n",
    "    f1_scores = np.divide(numerator, denom, out=np.zeros_like(denom), where=(denom!=0))\n",
    "    max_f1 = np.max(f1_scores)\n",
    "    max_f1_thresh = thresholds[np.argmax(f1_scores)]\n",
    "\n",
    "    plt.plot(recall, precision, label='%s AUPR=%.0f%%, F1=%.2f' % (refset, 100*metrics.auc(recall, precision), max_f1))\n",
    "    plt.legend()\n",
    "    if first:\n",
    "        plt.ylabel('Precision')\n",
    "        plt.xlabel('Recall')\n",
    "        sns.despine()\n",
    "    \n",
    "    first = False\n",
    "\n",
    "plt.tight_layout()\n",
    "plt.savefig(f'../figures/testperf_groupedallse_compare_{np_random_seed}_{random_state}_{EPOCHS}_{LR}.pdf')"
   ]
  },
  {
   "cell_type": "code",
   "execution_count": null,
   "metadata": {},
   "outputs": [],
   "source": []
  }
 ],
 "metadata": {
  "kernelspec": {
   "display_name": "Python 3.8.3",
   "language": "python",
   "name": "py3.8.3"
  },
  "language_info": {
   "codemirror_mode": {
    "name": "ipython",
    "version": 3
   },
   "file_extension": ".py",
   "mimetype": "text/x-python",
   "name": "python",
   "nbconvert_exporter": "python",
   "pygments_lexer": "ipython3",
   "version": "3.8.12"
  }
 },
 "nbformat": 4,
 "nbformat_minor": 4
}
